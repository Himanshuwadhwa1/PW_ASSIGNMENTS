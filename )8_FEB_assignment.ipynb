{
 "cells": [
  {
   "cell_type": "markdown",
   "id": "27f4d224-037d-4f3b-83a8-712e1c5bb94e",
   "metadata": {},
   "source": [
    "Q1. What is Abstraction in OOps? Explain with an example.\n",
    "\n",
    "Abstraction in Object-Oriented Programming (OOP) is a technique to hide implementation details and show only essential features to the user. It is a way to reduce the complexity and make the code more maintainable by encapsulating the behavior and data within objects."
   ]
  },
  {
   "cell_type": "code",
   "execution_count": 2,
   "id": "fbfe3a8e-323d-44db-8642-801878f2d603",
   "metadata": {},
   "outputs": [
    {
     "name": "stdout",
     "output_type": "stream",
     "text": [
      "tata nano engine started\n",
      "tata nano is now moving at 10 kmph\n",
      "tata nano is now moving at 20 kmph\n",
      "tata nano is now moving at 30 kmph\n",
      "tata nano has stopped\n"
     ]
    }
   ],
   "source": [
    "class car:\n",
    "    \n",
    "    def __init__(self,make,model,year):\n",
    "        \n",
    "        self.make=make\n",
    "        self.model=model\n",
    "        self.year=year\n",
    "        self._speed=0\n",
    "        \n",
    "    def start(self):\n",
    "        print(f'{self.make} {self.model} engine started')\n",
    "        \n",
    "    def accelerate(self):\n",
    "        self._speed+=10\n",
    "        print(f'{self.make} {self.model} is now moving at {self._speed} kmph')\n",
    "        \n",
    "    def stop(self):\n",
    "        self._speed=0\n",
    "        print(f'{self.make} {self.model} has stopped')\n",
    "        \n",
    "\n",
    "my_car = car('tata', 'nano', 2010)\n",
    "my_car.start()\n",
    "my_car.accelerate()\n",
    "my_car.accelerate()\n",
    "my_car.accelerate()\n",
    "my_car.stop()      "
   ]
  },
  {
   "cell_type": "markdown",
   "id": "8cc575f5-617f-4384-817e-13e64b6618f1",
   "metadata": {},
   "source": [
    "Q2. Differentiate between Abstraction and Encapsulation. Explain with an example.\n",
    "\n",
    "Abstraction: refers to the process of hiding the implementation details of an object and exposing only the essential features to the user. It is a technique to simplify complex systems by hiding the underlying complexity and providing a clear and easy to use interface.\n",
    "\n",
    "\n",
    "\n",
    "Encapsulation: on the other hand, is the mechanism of wrapping data and functions within an object. It is a way to protect the data from unauthorized access and modification by limiting the access to the object's internal data and behavior."
   ]
  },
  {
   "cell_type": "code",
   "execution_count": 3,
   "id": "7139efb4-4bb8-4b41-b76e-b5eda6809a02",
   "metadata": {},
   "outputs": [],
   "source": [
    "class Car:\n",
    "    def __init__(self, make, model, year):\n",
    "        self.make = make\n",
    "        self.model = model\n",
    "        self.year = year\n",
    "        self._speed = 0\n",
    "\n",
    "    def start_engine(self):\n",
    "        print(f'{self.make} {self.model} engine started')\n",
    "\n",
    "    def accelerate(self):\n",
    "        self._speed += 10\n",
    "        print(f'{self.make} {self.model} is now moving at {self._speed} mph')\n",
    "\n",
    "    def stop(self):\n",
    "        self._speed = 0\n",
    "        print(f'{self.make} {self.model} has stopped')\n",
    "    # Here the abstraction is to provide a simple interface to start the engine, accelerate, and stop the car. \n",
    "    # The encapsulation is to protect the internal data, _speed, from unauthorized access and modification."
   ]
  },
  {
   "cell_type": "markdown",
   "id": "58844a25-35e2-4458-8c52-a3ffb544ef96",
   "metadata": {},
   "source": [
    "Q3. What is abc module in python? Why is it used?\n",
    "\n",
    "The abc module in Python stands for \"Abstract Base Classes\". It provides a way to define abstract base classes in Python, which are classes that cannot be instantiated on their own but can be subclassed by other classes.\n",
    "\n",
    "\n",
    "The purpose of using abstract base classes is to provide a common interface for a set of related classes, to enforce certain contracts or constraints on the classes that inherit from them, or to specify what methods must be implemented by any concrete class that subclasses the abstract base class.\n",
    "\n",
    "\n",
    "The abc module provides a set of decorators and methods that can be used to define abstract base classes and abstract methods in a way that is compatible with Python's object-oriented programming model. The abc module also provides a way to register concrete classes as implementations of an abstract base class, which allows for better interoperability between different libraries and modules"
   ]
  },
  {
   "cell_type": "markdown",
   "id": "257df633-a926-44ae-aa01-0834dd46daa5",
   "metadata": {},
   "source": [
    "Q4. How can we achieve data abstraction?\n",
    "\n",
    "Data abstraction in Object-Oriented Programming (OOP) is achieved by hiding the implementation details of an object and exposing only the essential features to the user. There are several ways to achieve data abstraction in OOP, including:\n",
    "\n",
    "\n",
    "1.Encapsulation: Encapsulation is the mechanism of wrapping data and functions within an object. By making the data members of a class private or protected, they can only be accessed and modified through the public methods of the class, providing a level of abstraction.\n",
    "\n",
    "\n",
    "2.Access Modifiers: Access modifiers, such as private, protected, and public, can be used to control the access to the data members of a class. By making the data members private or protected, they can only be accessed and modified within the class or its subclasses, providing a level of abstraction.m"
   ]
  },
  {
   "cell_type": "code",
   "execution_count": 5,
   "id": "5946fbbb-1e49-49eb-87e4-f8fa8e37f9e2",
   "metadata": {},
   "outputs": [],
   "source": [
    "class car:\n",
    "    def __init__(self, make, model, year):\n",
    "        self.__make = make\n",
    "        self.__model = model\n",
    "        self.__year = year\n",
    "        self.__speed = 0\n",
    "\n",
    "    def start_engine(self):\n",
    "        print(f'{self.__make} {self.__model} engine started')\n",
    "\n",
    "    def accelerate(self):\n",
    "        self.__speed += 10\n",
    "        print(f'{self.__make} {self.__model} is now moving at {self.__speed} mph')\n",
    "\n",
    "    def stop(self):\n",
    "        self.__speed = 0\n",
    "        print(f'{self.__make} {self.__model} has stopped')\n",
    "\n",
    "        # access through getter to return private data memeber:\n",
    "\n",
    "    def get_make(self):\n",
    "        return self.__make\n",
    "\n",
    "    def get_model(self):\n",
    "        return self.__model\n",
    "\n",
    "    def get_year(self):\n",
    "        return self.__year    \n",
    "    # the class Car encapsulates its data and behavior within the class and makes the data members \n",
    "    # __make, __model, __year, and __speed private, \n",
    "    # so they can only be accessed and modified through the public methods of the class."
   ]
  },
  {
   "cell_type": "code",
   "execution_count": 6,
   "id": "34a9974b-8367-4057-a685-fdda714a249e",
   "metadata": {},
   "outputs": [],
   "source": [
    "car=car(\"Chevrolet\", 'Camaro',2010)"
   ]
  },
  {
   "cell_type": "code",
   "execution_count": 7,
   "id": "05638a2a-edbe-4f48-a7c2-4c0a16d310a0",
   "metadata": {},
   "outputs": [
    {
     "data": {
      "text/plain": [
       "2010"
      ]
     },
     "execution_count": 7,
     "metadata": {},
     "output_type": "execute_result"
    }
   ],
   "source": [
    "car.get_year()"
   ]
  },
  {
   "cell_type": "code",
   "execution_count": 8,
   "id": "760507f0-284c-4f4c-902f-3cb6bbcc720f",
   "metadata": {},
   "outputs": [
    {
     "name": "stdout",
     "output_type": "stream",
     "text": [
      "Chevrolet Camaro is now moving at 10 mph\n"
     ]
    }
   ],
   "source": [
    "car.accelerate()"
   ]
  },
  {
   "cell_type": "code",
   "execution_count": 9,
   "id": "d69d9965-e652-4400-bfa3-190599ac7003",
   "metadata": {},
   "outputs": [
    {
     "name": "stdout",
     "output_type": "stream",
     "text": [
      "Chevrolet Camaro has stopped\n"
     ]
    }
   ],
   "source": [
    "car.stop()"
   ]
  },
  {
   "cell_type": "code",
   "execution_count": 10,
   "id": "39690cc3-8594-4aa0-92f9-b6a46cf70b40",
   "metadata": {},
   "outputs": [
    {
     "name": "stdout",
     "output_type": "stream",
     "text": [
      "Chevrolet Camaro engine started\n"
     ]
    }
   ],
   "source": [
    "car.start_engine()"
   ]
  },
  {
   "cell_type": "markdown",
   "id": "a3618ce1-3eda-4fd4-9f73-19dd004729f1",
   "metadata": {},
   "source": [
    "Q5. Can we create an instance of an abstract class? Explain your answer.\n",
    "\n",
    "No, you cannot create an instance of an abstract class directly. An abstract class is a class that cannot be instantiated on its own and serves as a base class for other classes to inherit from. The purpose of an abstract class is to provide a common interface and/or implementation for its subclasses. To use an abstract class, you must create a subclass that extends the abstract class and implements any abstract methods defined in the abstract class. Then, you can create instances of the subclass."
   ]
  },
  {
   "cell_type": "code",
   "execution_count": null,
   "id": "53c2f0a9-4e6c-4705-babc-71d76fe1de41",
   "metadata": {},
   "outputs": [],
   "source": []
  }
 ],
 "metadata": {
  "kernelspec": {
   "display_name": "Python 3 (ipykernel)",
   "language": "python",
   "name": "python3"
  },
  "language_info": {
   "codemirror_mode": {
    "name": "ipython",
    "version": 3
   },
   "file_extension": ".py",
   "mimetype": "text/x-python",
   "name": "python",
   "nbconvert_exporter": "python",
   "pygments_lexer": "ipython3",
   "version": "3.10.8"
  }
 },
 "nbformat": 4,
 "nbformat_minor": 5
}
