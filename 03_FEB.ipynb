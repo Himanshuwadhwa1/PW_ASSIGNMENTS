{
 "cells": [
  {
   "cell_type": "raw",
   "id": "42e32745-f8d3-43b0-80bd-eb0aba30c710",
   "metadata": {},
   "source": [
    "03 Feb Assignment"
   ]
  },
  {
   "cell_type": "code",
   "execution_count": 1,
   "id": "ebe69c83-ec2e-4318-a0df-45ac7fcffc9e",
   "metadata": {},
   "outputs": [],
   "source": [
    "# ANS1 'def' keyword is used to create a fuction.\n",
    "def odd_num():\n",
    "    odds = []\n",
    "    for i in range(1,26):\n",
    "        if i%2 != 0:\n",
    "            odds.append(i)\n",
    "    return odds"
   ]
  },
  {
   "cell_type": "code",
   "execution_count": 2,
   "id": "83ef3f87-d1ba-45c2-9a73-a4eed5a11aec",
   "metadata": {},
   "outputs": [
    {
     "data": {
      "text/plain": [
       "[1, 3, 5, 7, 9, 11, 13, 15, 17, 19, 21, 23, 25]"
      ]
     },
     "execution_count": 2,
     "metadata": {},
     "output_type": "execute_result"
    }
   ],
   "source": [
    "odd_num()"
   ]
  },
  {
   "cell_type": "code",
   "execution_count": 5,
   "id": "828e4e11-9104-40ec-b804-ab988367a13e",
   "metadata": {},
   "outputs": [],
   "source": [
    "# # ANS2 Ans. *args and **kwargs are used in functions to pass a variable number of arguments to the function.\n",
    "\n",
    "# *args is used to send a non-keyworded variable length argument list to the function.\n",
    "# It allows the function to receive a dynamic number of non-keyword arguments, and these arguments are packed into a tuple.\n",
    "\n",
    "# **kwargs allows a keyworded, variable-length argument list.\n",
    "# It passes keyworded variable length of arguments to a function. \n",
    "# The arguments are passed in the form of key-value pairs and packed into a dictionary."
   ]
  },
  {
   "cell_type": "code",
   "execution_count": 6,
   "id": "2feeb974-6d21-4865-b257-67389e3df28f",
   "metadata": {},
   "outputs": [],
   "source": [
    "# Example\n",
    "\n",
    "def test_func(*args, **kwargs):\n",
    "    print(\"This is a test function\")\n",
    "    print(\"Non-keyworded arguments:\", args)\n",
    "    print(\"Keyworded arguments:\", kwargs)"
   ]
  },
  {
   "cell_type": "code",
   "execution_count": 7,
   "id": "408610c9-1d15-4368-add4-ad921a4a8a96",
   "metadata": {},
   "outputs": [
    {
     "name": "stdout",
     "output_type": "stream",
     "text": [
      "This is a test function\n",
      "Non-keyworded arguments: (1, 2, 3, 442)\n",
      "Keyworded arguments: {'name': 'himanshu', 'age': 19}\n"
     ]
    }
   ],
   "source": [
    "test_func(1,2,3,442,name=\"himanshu\",age=19)"
   ]
  },
  {
   "cell_type": "code",
   "execution_count": 8,
   "id": "f1a3ead8-a3cf-43cc-bb90-b26aa8b458a4",
   "metadata": {},
   "outputs": [
    {
     "name": "stdout",
     "output_type": "stream",
     "text": [
      "2\n",
      "4\n",
      "6\n",
      "8\n",
      "10\n"
     ]
    }
   ],
   "source": [
    "# #ANS3 An iterator in Python is an object that implements the iterator protocol.\n",
    "# It must define two methods: __iter__() and __next__().\n",
    "# __iter__() returns the iterator object itself and the __next__() method returns the next item from the sequence of elements.\n",
    "l = [2, 4, 6, 8, 10, 12, 14, 16, 18, 20]\n",
    "it = iter(l)\n",
    "\n",
    "for i in range(5):\n",
    "    print(next(it))"
   ]
  },
  {
   "cell_type": "code",
   "execution_count": 10,
   "id": "38c67256-ac22-4479-8786-73310453130c",
   "metadata": {},
   "outputs": [
    {
     "name": "stdout",
     "output_type": "stream",
     "text": [
      "0\n",
      "1\n",
      "2\n",
      "3\n",
      "4\n"
     ]
    }
   ],
   "source": [
    "# #ANS4 A generator function in Python is a special type of function that returns a generator iterator. It uses the yield keyword instead of return to return multiple values one at a time, instead of all at once.\n",
    "\n",
    "# The yield keyword is used to return a value from the generator function and pause its execution.\n",
    "# When the function is called again, it resumes execution immediately after the yield statement.\n",
    "# This allows the generator function to generate an iterable sequence of values,\n",
    "# which can be iterated over in a for loop or using the next() method.\n",
    "#example\n",
    "def generator_function(n):\n",
    "    i = 0\n",
    "    while i < n:\n",
    "        yield i\n",
    "        i += 1\n",
    "gen = generator_function(5)\n",
    "for i in gen:\n",
    "    print(i)"
   ]
  },
  {
   "cell_type": "code",
   "execution_count": 11,
   "id": "b5e75edd-c37b-44e3-9174-2222fc0fccd4",
   "metadata": {},
   "outputs": [
    {
     "name": "stdout",
     "output_type": "stream",
     "text": [
      "1\n",
      "2\n",
      "3\n",
      "5\n",
      "7\n",
      "11\n",
      "13\n",
      "17\n",
      "19\n",
      "23\n",
      "29\n",
      "31\n",
      "37\n",
      "41\n",
      "43\n",
      "47\n",
      "53\n",
      "59\n",
      "61\n",
      "67\n",
      "71\n"
     ]
    }
   ],
   "source": [
    "# ANS 5 \n",
    "def prime_number():\n",
    "    for n in range(1,1000):\n",
    "        for i in range(2,n):\n",
    "            if(n%i==0):\n",
    "                break\n",
    "        else:\n",
    "            yield n     \n",
    "prime_gen = prime_number()\n",
    "for i in range(21):\n",
    "    print(next(prime_gen))"
   ]
  },
  {
   "cell_type": "code",
   "execution_count": 12,
   "id": "70086b1f-ccb4-4494-8c6c-f8e55a566ffc",
   "metadata": {},
   "outputs": [
    {
     "name": "stdout",
     "output_type": "stream",
     "text": [
      "0\n",
      "1\n",
      "1\n",
      "2\n",
      "3\n",
      "5\n",
      "8\n",
      "13\n",
      "21\n",
      "34\n"
     ]
    }
   ],
   "source": [
    "#ANS 6\n",
    "number = 10 ## Hard Coded, Given in the Question\n",
    "a,b = 0,1\n",
    "counter = 0\n",
    "while counter < number :\n",
    "    print(a)\n",
    "    a,b = b, a + b\n",
    "    counter +=1"
   ]
  },
  {
   "cell_type": "code",
   "execution_count": 14,
   "id": "3212b21d-38de-4ddc-bce6-a49fe9eb41c0",
   "metadata": {},
   "outputs": [
    {
     "data": {
      "text/plain": [
       "['p', 'w', 's', 'k', 'i', 'l', 'l', 's']"
      ]
     },
     "execution_count": 14,
     "metadata": {},
     "output_type": "execute_result"
    }
   ],
   "source": [
    "#ANS 7\n",
    "[i for i in 'pwskills']"
   ]
  },
  {
   "cell_type": "code",
   "execution_count": 18,
   "id": "5fc8dcc2-d086-40ea-b28a-3f9000367282",
   "metadata": {},
   "outputs": [
    {
     "name": "stdin",
     "output_type": "stream",
     "text": [
      "Enter a number to check for Palindrome 1441\n"
     ]
    },
    {
     "name": "stdout",
     "output_type": "stream",
     "text": [
      "Palindrome!\n"
     ]
    }
   ],
   "source": [
    "#ANS 8\n",
    "number = int(input(\"Enter a number to check for Palindrome\"))\n",
    "number1 = str(number)\n",
    "length = len(number1)\n",
    "reverse = \"\"\n",
    "while( length > 0):\n",
    "    reverse = reverse + number1[length-1] \n",
    "    length -= 1\n",
    "if number1 == reverse:\n",
    "    print (\"Palindrome!\")\n",
    "else:\n",
    "    print (\"Not a Palindrome!\")"
   ]
  },
  {
   "cell_type": "code",
   "execution_count": 20,
   "id": "55e6f561-e532-417f-83f3-db9347fe08a3",
   "metadata": {},
   "outputs": [],
   "source": [
    "#ANS 9\n",
    "list1=[i for i in range(1,101)]"
   ]
  },
  {
   "cell_type": "code",
   "execution_count": 21,
   "id": "49c87836-f06f-4c77-b60b-236a126a1e6e",
   "metadata": {},
   "outputs": [
    {
     "data": {
      "text/plain": [
       "[1,\n",
       " 2,\n",
       " 3,\n",
       " 4,\n",
       " 5,\n",
       " 6,\n",
       " 7,\n",
       " 8,\n",
       " 9,\n",
       " 10,\n",
       " 11,\n",
       " 12,\n",
       " 13,\n",
       " 14,\n",
       " 15,\n",
       " 16,\n",
       " 17,\n",
       " 18,\n",
       " 19,\n",
       " 20,\n",
       " 21,\n",
       " 22,\n",
       " 23,\n",
       " 24,\n",
       " 25,\n",
       " 26,\n",
       " 27,\n",
       " 28,\n",
       " 29,\n",
       " 30,\n",
       " 31,\n",
       " 32,\n",
       " 33,\n",
       " 34,\n",
       " 35,\n",
       " 36,\n",
       " 37,\n",
       " 38,\n",
       " 39,\n",
       " 40,\n",
       " 41,\n",
       " 42,\n",
       " 43,\n",
       " 44,\n",
       " 45,\n",
       " 46,\n",
       " 47,\n",
       " 48,\n",
       " 49,\n",
       " 50,\n",
       " 51,\n",
       " 52,\n",
       " 53,\n",
       " 54,\n",
       " 55,\n",
       " 56,\n",
       " 57,\n",
       " 58,\n",
       " 59,\n",
       " 60,\n",
       " 61,\n",
       " 62,\n",
       " 63,\n",
       " 64,\n",
       " 65,\n",
       " 66,\n",
       " 67,\n",
       " 68,\n",
       " 69,\n",
       " 70,\n",
       " 71,\n",
       " 72,\n",
       " 73,\n",
       " 74,\n",
       " 75,\n",
       " 76,\n",
       " 77,\n",
       " 78,\n",
       " 79,\n",
       " 80,\n",
       " 81,\n",
       " 82,\n",
       " 83,\n",
       " 84,\n",
       " 85,\n",
       " 86,\n",
       " 87,\n",
       " 88,\n",
       " 89,\n",
       " 90,\n",
       " 91,\n",
       " 92,\n",
       " 93,\n",
       " 94,\n",
       " 95,\n",
       " 96,\n",
       " 97,\n",
       " 98,\n",
       " 99,\n",
       " 100]"
      ]
     },
     "execution_count": 21,
     "metadata": {},
     "output_type": "execute_result"
    }
   ],
   "source": [
    "list1"
   ]
  },
  {
   "cell_type": "code",
   "execution_count": 22,
   "id": "0f06b89b-681f-44df-8b82-849f492290f9",
   "metadata": {},
   "outputs": [
    {
     "data": {
      "text/plain": [
       "[1,\n",
       " 3,\n",
       " 5,\n",
       " 7,\n",
       " 9,\n",
       " 11,\n",
       " 13,\n",
       " 15,\n",
       " 17,\n",
       " 19,\n",
       " 21,\n",
       " 23,\n",
       " 25,\n",
       " 27,\n",
       " 29,\n",
       " 31,\n",
       " 33,\n",
       " 35,\n",
       " 37,\n",
       " 39,\n",
       " 41,\n",
       " 43,\n",
       " 45,\n",
       " 47,\n",
       " 49,\n",
       " 51,\n",
       " 53,\n",
       " 55,\n",
       " 57,\n",
       " 59,\n",
       " 61,\n",
       " 63,\n",
       " 65,\n",
       " 67,\n",
       " 69,\n",
       " 71,\n",
       " 73,\n",
       " 75,\n",
       " 77,\n",
       " 79,\n",
       " 81,\n",
       " 83,\n",
       " 85,\n",
       " 87,\n",
       " 89,\n",
       " 91,\n",
       " 93,\n",
       " 95,\n",
       " 97,\n",
       " 99]"
      ]
     },
     "execution_count": 22,
     "metadata": {},
     "output_type": "execute_result"
    }
   ],
   "source": [
    "list(filter( lambda x : x%2!=0 ,list1))"
   ]
  },
  {
   "cell_type": "code",
   "execution_count": null,
   "id": "3f581079-20b9-40d8-bf86-a11ac9edbd15",
   "metadata": {},
   "outputs": [],
   "source": []
  }
 ],
 "metadata": {
  "kernelspec": {
   "display_name": "Python 3 (ipykernel)",
   "language": "python",
   "name": "python3"
  },
  "language_info": {
   "codemirror_mode": {
    "name": "ipython",
    "version": 3
   },
   "file_extension": ".py",
   "mimetype": "text/x-python",
   "name": "python",
   "nbconvert_exporter": "python",
   "pygments_lexer": "ipython3",
   "version": "3.10.8"
  }
 },
 "nbformat": 4,
 "nbformat_minor": 5
}
