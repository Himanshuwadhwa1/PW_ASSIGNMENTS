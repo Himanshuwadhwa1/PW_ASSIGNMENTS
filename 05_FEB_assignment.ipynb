{
 "cells": [
  {
   "cell_type": "markdown",
   "id": "79f3868c-b93e-461c-812c-25e63bf1397d",
   "metadata": {},
   "source": [
    "05_FEb assignment"
   ]
  },
  {
   "cell_type": "markdown",
   "id": "03a7db53-baa6-4b51-acbe-433a46b2ab08",
   "metadata": {},
   "source": [
    "#ANS 1\n",
    "In Object-Oriented Programming (OOP), a class is a blueprint for creating objects. It defines the characteristics and behaviors of the objects that will be created from it. An object, on the other hand, is an instance of a class. It is a specific entity that is created from the class and has its own unique set of values for its properties and methods."
   ]
  },
  {
   "cell_type": "code",
   "execution_count": 4,
   "id": "81388f83-ff64-4571-a767-ea758ac7bc09",
   "metadata": {},
   "outputs": [],
   "source": [
    "class marksheet: # class\n",
    "    def __init__(him,name,branch,semester,phonenumber):\n",
    "        him.name = name\n",
    "        him.branch = branch\n",
    "        him.semester = semester\n",
    "        him.phonenumber = phonenumber\n",
    "    \n",
    "    def details(him):\n",
    "        return him.semester , him.branch , him.name , him.phonenumber"
   ]
  },
  {
   "cell_type": "code",
   "execution_count": 5,
   "id": "1f6f2480-9e41-4efb-928a-e2fb845627ed",
   "metadata": {},
   "outputs": [],
   "source": [
    "himanshu = marksheet(\"himanshu\",\"cs\", 3 , 8374543659) #  object"
   ]
  },
  {
   "cell_type": "code",
   "execution_count": 6,
   "id": "271fdd12-a646-40de-8afe-596ff25fae8c",
   "metadata": {},
   "outputs": [
    {
     "data": {
      "text/plain": [
       "(3, 'cs', 'himanshu', 8374543659)"
      ]
     },
     "execution_count": 6,
     "metadata": {},
     "output_type": "execute_result"
    }
   ],
   "source": [
    "himanshu.details()"
   ]
  },
  {
   "cell_type": "code",
   "execution_count": 7,
   "id": "9bb7a777-bd6c-487d-9541-5edd9834ebb1",
   "metadata": {},
   "outputs": [],
   "source": [
    "# ANS 2 \n",
    "# Inheritance, Polymorphism, Encapsulation and Abstraction"
   ]
  },
  {
   "cell_type": "code",
   "execution_count": 8,
   "id": "252935df-9629-4220-9603-fa198c327428",
   "metadata": {},
   "outputs": [],
   "source": [
    "# ANS3\n",
    "# when an object of a class is created.\n",
    "# __init__ function is used to initialize the object's \n",
    "# attributes with some default or user-defined values.\n",
    "class Person:\n",
    "    def __init__(self, name, age):\n",
    "        self.name = name\n",
    "        self.age = age\n",
    "\n",
    "    def introduce(self):\n",
    "        print(self.name, self.age,)\n",
    "\n",
    "person1 = Person(\"Alice\", 25)\n",
    "person2 = Person(\"Bob\", 30)"
   ]
  },
  {
   "cell_type": "code",
   "execution_count": 9,
   "id": "90dc7f36-561a-4539-b7a0-c031e088cd0f",
   "metadata": {},
   "outputs": [
    {
     "name": "stdout",
     "output_type": "stream",
     "text": [
      "Alice 25\n"
     ]
    }
   ],
   "source": [
    "person1.introduce()"
   ]
  },
  {
   "cell_type": "code",
   "execution_count": 10,
   "id": "8ca799d7-6357-475e-bca3-0d73de9c3a5b",
   "metadata": {},
   "outputs": [],
   "source": [
    "# #ANS 4\n",
    "# When an object is created from a class in OOP, it has its own set of attributes and methods. \n",
    "# The \"self\" variable is used to refer to these attributes and methods within the object itself.\n",
    "# self is a way to reference the instance of the class on which a method is being called.\n",
    "# This allows the method to access and modify the object's internal state\n",
    "# The use of \"self\" is a fundamental concept in OOP and is essential for creating reusable code"
   ]
  },
  {
   "cell_type": "code",
   "execution_count": null,
   "id": "0ec63595-b8db-4cc0-8ef0-0d5e25b6bc8b",
   "metadata": {},
   "outputs": [],
   "source": [
    "#ANS 5\n",
    "# Inheritance is a fundamental concept in object-oriented programming (OOP) \n",
    "# that allows one class to inherit properties and methods from another class.\n",
    "\n",
    "# There are four types of inheritance in OOP:\n",
    "#     Single inheritance: \n",
    "#         This is when a subclass inherits properties and methods from a single parent class.\n",
    "#     Multiple inheritance:\n",
    "#         This is when a subclass inherits properties and methods from multiple parent classes.\n",
    "#     Multilevel inheritance: \n",
    "#         This is when a subclass inherits properties and methods from a parent class, \n",
    "#         which in turn inherits properties and methods from its own parent class.\n",
    "#     Multilevel inheritance:\n",
    "#         This is when a subclass inherits properties and methods from a parent class,\n",
    "#         which in turn inherits properties and methods from its own parent class."
   ]
  }
 ],
 "metadata": {
  "kernelspec": {
   "display_name": "Python 3 (ipykernel)",
   "language": "python",
   "name": "python3"
  },
  "language_info": {
   "codemirror_mode": {
    "name": "ipython",
    "version": 3
   },
   "file_extension": ".py",
   "mimetype": "text/x-python",
   "name": "python",
   "nbconvert_exporter": "python",
   "pygments_lexer": "ipython3",
   "version": "3.10.8"
  }
 },
 "nbformat": 4,
 "nbformat_minor": 5
}
