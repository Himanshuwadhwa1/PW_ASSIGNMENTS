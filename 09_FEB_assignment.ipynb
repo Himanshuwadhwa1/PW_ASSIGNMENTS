{
 "cells": [
  {
   "cell_type": "markdown",
   "id": "59d6b88a-6220-4aa0-acf2-7e0e79edf981",
   "metadata": {},
   "source": [
    "Q1. Create a vehicle class with an init method having instance variables as name_of_vehicle, max_speed and average_of_vehicle."
   ]
  },
  {
   "cell_type": "code",
   "execution_count": 1,
   "id": "7b8f8abc-72fb-4a64-97f6-3c7ec07dcb15",
   "metadata": {},
   "outputs": [],
   "source": [
    "class vehicle :\n",
    "    \n",
    "    def __init__(self,name_of_vehicle,max_speed,average_of_vehicle):\n",
    "        \n",
    "        self.name_of_vehicle= name_of_vehicle\n",
    "        self.max_speed=max_speed\n",
    "        self.average_of_vehicle=average_of_vehicle\n",
    "        "
   ]
  },
  {
   "cell_type": "markdown",
   "id": "29e4fde0-9825-4075-929b-3c51e23086ce",
   "metadata": {},
   "source": [
    "Q2. Create a child class car from the vehicle class created in Que 1, which will inherit the vehicle class. Create a method named seating_capacity which takes capacity as an argument and returns the name of the vehicle and its seating capacity."
   ]
  },
  {
   "cell_type": "code",
   "execution_count": 3,
   "id": "3d775952-a67f-4018-a968-e7a075bf91fb",
   "metadata": {},
   "outputs": [],
   "source": [
    "class Vehicle:\n",
    "    def __init__(self, name_of_vehicle, max_speed, average_of_vehicle):\n",
    "        self.name_of_vehicle = name_of_vehicle\n",
    "        self.max_speed = max_speed\n",
    "        self.average_of_vehicle = average_of_vehicle\n",
    "\n",
    "class Car(Vehicle):\n",
    "    def seating_capacity(self, capacity):\n",
    "        return f\"{self.name_of_vehicle} seating capacity is {capacity}\""
   ]
  },
  {
   "cell_type": "code",
   "execution_count": 4,
   "id": "5449a3c0-6c27-4278-b6ad-717f868f4f5b",
   "metadata": {},
   "outputs": [],
   "source": [
    "abc=Car(\"Chevrolet Camaro\",250,12)"
   ]
  },
  {
   "cell_type": "code",
   "execution_count": 5,
   "id": "00bf9378-f779-4845-b4f0-a6c25fbd5c56",
   "metadata": {},
   "outputs": [
    {
     "data": {
      "text/plain": [
       "'Chevrolet Camaro seating capacity is 4'"
      ]
     },
     "execution_count": 5,
     "metadata": {},
     "output_type": "execute_result"
    }
   ],
   "source": [
    "abc.seating_capacity(4)"
   ]
  },
  {
   "cell_type": "code",
   "execution_count": 7,
   "id": "37aef6d1-ee5c-4f30-b00f-3a7d57dabef2",
   "metadata": {},
   "outputs": [
    {
     "data": {
      "text/plain": [
       "250"
      ]
     },
     "execution_count": 7,
     "metadata": {},
     "output_type": "execute_result"
    }
   ],
   "source": [
    "abc.max_speed"
   ]
  },
  {
   "cell_type": "raw",
   "id": "d3ae77b2-1d0e-4916-b6a3-6e237dfa081f",
   "metadata": {},
   "source": [
    "Q3. What is multiple inheritance? Write a python code to demonstrate multiple inheritance.\n",
    "\n",
    "Multiple Inheritance: A subclass inherits from multiple superclasses.This allows a class to inherit attributes and methods from multiple sources."
   ]
  },
  {
   "cell_type": "code",
   "execution_count": 8,
   "id": "36e9ef7b-2001-4307-a1f5-ac665aa28abd",
   "metadata": {},
   "outputs": [
    {
     "name": "stdout",
     "output_type": "stream",
     "text": [
      "Breathing\n",
      "Is Animal\n",
      "Is flying\n"
     ]
    },
    {
     "data": {
      "text/plain": [
       "'Corona'"
      ]
     },
     "execution_count": 8,
     "metadata": {},
     "output_type": "execute_result"
    }
   ],
   "source": [
    "class Biotic:\n",
    "    \n",
    "    def __init__(self,name):\n",
    "        self.name=name\n",
    "    \n",
    "    def breathe(self):\n",
    "        print(\"Breathing\")\n",
    "        \n",
    "class Mammal(Biotic):\n",
    "    \n",
    "    def Animal(self):\n",
    "        print(\"Is Animal\")\n",
    "        \n",
    "class WingedAnimal(Biotic):\n",
    "    \n",
    "    def fly(self):\n",
    "        print(\"Is flying\")\n",
    "        \n",
    "class Bat(Mammal,WingedAnimal):\n",
    "    pass\n",
    "\n",
    "\n",
    "bat=Bat(\"Corona\")\n",
    "\n",
    "bat.breathe()\n",
    "bat.Animal()\n",
    "bat.fly()\n",
    "bat.name"
   ]
  },
  {
   "cell_type": "markdown",
   "id": "a4ab2a57-e84a-41d3-b0d7-372f5a29da10",
   "metadata": {},
   "source": [
    "Q4. What are getter and setter in python? Create a class and create a getter and a setter method in this class.\n",
    "\n",
    "Getters: It is a method used in OOPs which helps to access the private attribute from a class.\n",
    "\n",
    "\n",
    "Setters: These are the methods used in OOPS which helps to set the value to private attributes in a class."
   ]
  },
  {
   "cell_type": "code",
   "execution_count": 13,
   "id": "4c76575b-780d-414a-949f-0e8b2db378fa",
   "metadata": {},
   "outputs": [],
   "source": [
    "class car:\n",
    "    \n",
    "    def __init__(self,year,make,model,speed):\n",
    "        \n",
    "        self.__year=year\n",
    "        self.__make=make\n",
    "        self.__model=model\n",
    "        self.__speed=180\n",
    "        \n",
    "        \n",
    "    # setter:  \n",
    "    def set_speed(self,speed):\n",
    "        \n",
    "        self.__speed= 0 if speed<0 else speed\n",
    "    # getter    \n",
    "    def get_speed(self):\n",
    "        \n",
    "        return self.__speed"
   ]
  },
  {
   "cell_type": "code",
   "execution_count": 14,
   "id": "f27068b4-3dfb-4850-ba98-4f6d435f9995",
   "metadata": {},
   "outputs": [],
   "source": [
    "c=car(2021,'Chevrolet','Camaro',200)"
   ]
  },
  {
   "cell_type": "code",
   "execution_count": 15,
   "id": "07d041e7-8e27-4543-a8b0-4fd9596a27ad",
   "metadata": {},
   "outputs": [],
   "source": [
    "c.set_speed(100)"
   ]
  },
  {
   "cell_type": "code",
   "execution_count": 16,
   "id": "4559a488-418d-404a-bdf6-55eb327eab15",
   "metadata": {},
   "outputs": [
    {
     "data": {
      "text/plain": [
       "100"
      ]
     },
     "execution_count": 16,
     "metadata": {},
     "output_type": "execute_result"
    }
   ],
   "source": [
    "c.get_speed()"
   ]
  },
  {
   "cell_type": "markdown",
   "id": "39e1a07b-d4b7-4c8e-b497-0235f55a0200",
   "metadata": {},
   "source": [
    "Q5.What is method overriding in python? Write a python code to demonstrate method overriding.\n",
    "\n",
    "Method overriding is an ability in OOPs that allows a subclass or child class to provide a specific implementation of a method that is already provided by one of its super-classes or parent classes"
   ]
  },
  {
   "cell_type": "code",
   "execution_count": 17,
   "id": "176c8b48-3546-4db6-ae34-e2a358cb311f",
   "metadata": {},
   "outputs": [
    {
     "name": "stdout",
     "output_type": "stream",
     "text": [
      "Inside GrandChild\n",
      "Inside Child\n",
      "Inside Parent\n"
     ]
    }
   ],
   "source": [
    "class Parent(): \n",
    "        \n",
    "    def show(self):\n",
    "        print(\"Inside Parent\")\n",
    "    \n",
    "class Child(Parent): \n",
    "\n",
    "    def show1(self):\n",
    "        print(\"Inside Child\")\n",
    "\n",
    "class GrandChild(Child): \n",
    "          \n",
    "    def show2(self):\n",
    "        print(\"Inside GrandChild\")         \n",
    "    \n",
    "g = GrandChild()   \n",
    "g.show1()\n",
    "g.show1()\n",
    "g.display()"
   ]
  },
  {
   "cell_type": "code",
   "execution_count": null,
   "id": "febcddfd-8ee6-4de6-9f05-753539e8f2e6",
   "metadata": {},
   "outputs": [],
   "source": []
  }
 ],
 "metadata": {
  "kernelspec": {
   "display_name": "Python 3 (ipykernel)",
   "language": "python",
   "name": "python3"
  },
  "language_info": {
   "codemirror_mode": {
    "name": "ipython",
    "version": 3
   },
   "file_extension": ".py",
   "mimetype": "text/x-python",
   "name": "python",
   "nbconvert_exporter": "python",
   "pygments_lexer": "ipython3",
   "version": "3.10.8"
  }
 },
 "nbformat": 4,
 "nbformat_minor": 5
}
