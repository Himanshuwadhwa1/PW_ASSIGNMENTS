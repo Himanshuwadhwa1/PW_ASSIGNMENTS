{
 "cells": [
  {
   "cell_type": "code",
   "execution_count": 2,
   "id": "06bf8221-bce2-4e0e-ba2f-ea6760654ce7",
   "metadata": {},
   "outputs": [
    {
     "name": "stdin",
     "output_type": "stream",
     "text": [
      "Enter your marks in percentage :  85\n"
     ]
    },
    {
     "name": "stdout",
     "output_type": "stream",
     "text": [
      "You got B grade\n"
     ]
    }
   ],
   "source": [
    "#ANS1\n",
    "percent = int(input(\"Enter your marks in percentage : \"))\n",
    "if percent >90:\n",
    "    print(\"You got A grade\")\n",
    "elif percent <=90 and percent >80:\n",
    "    print(\"You got B grade\")\n",
    "elif percent<=80 and percent >=60:\n",
    "    print(\"You got C grade\")\n",
    "elif percent<60:\n",
    "    print(\"You got D grade\")"
   ]
  },
  {
   "cell_type": "code",
   "execution_count": 9,
   "id": "5861398c-862a-4457-bb3d-ae55416e3699",
   "metadata": {},
   "outputs": [
    {
     "name": "stdin",
     "output_type": "stream",
     "text": [
      "Enter Cost price of bike in Rs :  60000\n"
     ]
    },
    {
     "name": "stdout",
     "output_type": "stream",
     "text": [
      "Tax is 10% that is  6000.0\n"
     ]
    }
   ],
   "source": [
    "#ANS2\n",
    "cost = int(input(\"Enter Cost price of bike in Rs : \"))\n",
    "tax=0\n",
    "if cost > 100000:\n",
    "    tax = (cost*15)/100\n",
    "    print(\"Tax is 15% that is \",tax)\n",
    "elif cost <=100000 and cost>50000:\n",
    "    tax = (cost*10)/100\n",
    "    print(\"Tax is 10% that is \",tax)\n",
    "elif cost <= 50000:\n",
    "    tax= (cost*5)/100\n",
    "    print(\"Tax is 5% that is \",tax)\n",
    "    "
   ]
  },
  {
   "cell_type": "code",
   "execution_count": 2,
   "id": "aad412d4-8a3a-44cd-b117-7d598c8b277b",
   "metadata": {},
   "outputs": [
    {
     "name": "stdin",
     "output_type": "stream",
     "text": [
      "Chose any City : \n",
      " 1. for Delhi\n",
      " 2. for Agra\n",
      " 3. for Jaipur 3\n"
     ]
    },
    {
     "name": "stdout",
     "output_type": "stream",
     "text": [
      "Monument :Jai mahal\n"
     ]
    }
   ],
   "source": [
    "#Ans3\n",
    "chose=int(input(\"Chose any City : \\n 1. for Delhi\\n 2. for Agra\\n 3. for Jaipur\"))\n",
    "if chose==1:\n",
    "    print(\"Monument :Red Fort\")\n",
    "elif chose == 2:\n",
    "    print(\"Monument :Taj Mahal\")\n",
    "elif chose == 3:\n",
    "    print(\"Monument :Jai mahal\")"
   ]
  },
  {
   "cell_type": "code",
   "execution_count": 7,
   "id": "ff0cb710-4724-4f14-95cf-bb93ec01f894",
   "metadata": {},
   "outputs": [
    {
     "name": "stdout",
     "output_type": "stream",
     "text": [
      "3 times given number is divided by 3\n"
     ]
    }
   ],
   "source": [
    "#ANS4\n",
    "num=99\n",
    "n=0\n",
    "while num>10:\n",
    "    num=num/3\n",
    "    n=n+1\n",
    "print(n,\"times given number is divided by 3\")"
   ]
  },
  {
   "cell_type": "code",
   "execution_count": 9,
   "id": "9b3175bd-faf2-4a5c-ba78-6d06c2eb3341",
   "metadata": {},
   "outputs": [
    {
     "name": "stdout",
     "output_type": "stream",
     "text": [
      "1\n",
      "2\n",
      "3\n",
      "4\n",
      "5\n"
     ]
    }
   ],
   "source": [
    "#ANS5\n",
    "'''In Python,\n",
    "a while loop is used to repeatedly execute a block of code as long as a specified condition is true.\n",
    "This type of loop is particularly useful when the number of iterations required is unknown beforehand,\n",
    "or when the loop needs to continue until a certain condition is met.'''\n",
    "i = 1\n",
    "while i <= 5:\n",
    "    print(i)\n",
    "    i += 1\n"
   ]
  },
  {
   "cell_type": "code",
   "execution_count": 1,
   "id": "b82bd9ab-2314-4292-9745-e46d1b80d0e9",
   "metadata": {},
   "outputs": [],
   "source": [
    "#ANS6 printing pattern using while loop\n"
   ]
  },
  {
   "cell_type": "code",
   "execution_count": 17,
   "id": "b762ab7a-a66d-4139-8736-fc391c2ac171",
   "metadata": {},
   "outputs": [
    {
     "name": "stdout",
     "output_type": "stream",
     "text": [
      "\n",
      "*\n",
      "**\n",
      "***\n",
      "****\n",
      "*****\n"
     ]
    }
   ],
   "source": [
    "# (i)\n",
    "n=5\n",
    "i=0\n",
    "while i<=n:\n",
    "    print(i*\"*\")\n",
    "    i=i+1"
   ]
  },
  {
   "cell_type": "code",
   "execution_count": 18,
   "id": "14921900-3dd6-4a76-bf5e-4727508d37af",
   "metadata": {},
   "outputs": [
    {
     "name": "stdout",
     "output_type": "stream",
     "text": [
      "\n",
      " *\n",
      "  **\n",
      "   ***\n",
      "    ****\n",
      "     *****\n"
     ]
    }
   ],
   "source": [
    "# (ii)\n",
    "n=5\n",
    "i=0\n",
    "while i<=n:\n",
    "    print(i*\" \" + (i*\"*\"))\n",
    "    i=i+1"
   ]
  },
  {
   "cell_type": "code",
   "execution_count": 2,
   "id": "68928e22-7757-4e2a-a595-dbd11337c73e",
   "metadata": {},
   "outputs": [
    {
     "name": "stdout",
     "output_type": "stream",
     "text": [
      "*****\n",
      "****\n",
      "***\n",
      "**\n",
      "*\n"
     ]
    }
   ],
   "source": [
    "# (iii)\n",
    "n=5 \n",
    "i=0\n",
    "while i<n:\n",
    "    print(n*\"*\")\n",
    "    n=n-1"
   ]
  },
  {
   "cell_type": "code",
   "execution_count": 4,
   "id": "764edab6-465c-4cff-b854-7cea55655826",
   "metadata": {},
   "outputs": [
    {
     "name": "stdout",
     "output_type": "stream",
     "text": [
      "10 9 8 7 6 5 4 3 2 1 "
     ]
    }
   ],
   "source": [
    "# ANS 7 printing 10 to 1\n",
    "n=10\n",
    "i=0\n",
    "while n>i:\n",
    "    print(n ,end=\" \")\n",
    "    n=n-1\n"
   ]
  },
  {
   "cell_type": "code",
   "execution_count": 5,
   "id": "ac3dd04c-dddf-42c4-95ac-b67acacb1ed7",
   "metadata": {},
   "outputs": [
    {
     "name": "stdout",
     "output_type": "stream",
     "text": [
      "10\n",
      "9\n",
      "8\n",
      "7\n",
      "6\n",
      "5\n",
      "4\n",
      "3\n",
      "2\n",
      "1\n"
     ]
    }
   ],
   "source": [
    "# ANS 7 printing 10 to 1\n",
    "n=10\n",
    "i=0\n",
    "while n>i:\n",
    "    print(n)\n",
    "    n=n-1\n"
   ]
  },
  {
   "cell_type": "code",
   "execution_count": null,
   "id": "8cdcd758-8783-41b1-af8f-26fa40974aa0",
   "metadata": {},
   "outputs": [],
   "source": []
  }
 ],
 "metadata": {
  "kernelspec": {
   "display_name": "Python 3 (ipykernel)",
   "language": "python",
   "name": "python3"
  },
  "language_info": {
   "codemirror_mode": {
    "name": "ipython",
    "version": 3
   },
   "file_extension": ".py",
   "mimetype": "text/x-python",
   "name": "python",
   "nbconvert_exporter": "python",
   "pygments_lexer": "ipython3",
   "version": "3.10.8"
  }
 },
 "nbformat": 4,
 "nbformat_minor": 5
}
