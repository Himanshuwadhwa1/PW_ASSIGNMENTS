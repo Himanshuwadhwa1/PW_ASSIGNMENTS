{
 "cells": [
  {
   "cell_type": "markdown",
   "id": "e56ce9c8-c966-4edd-8a54-29ea34413589",
   "metadata": {},
   "source": [
    "04_FEb assignment"
   ]
  },
  {
   "cell_type": "code",
   "execution_count": 7,
   "id": "7303b281-072d-42e3-b586-3b9e31350d5a",
   "metadata": {},
   "outputs": [],
   "source": [
    "# ANS 1\n",
    "l = [('Sachin Tendulkar', 34357), ('Ricky Ponting', 27483), ('Jack Kallis', 25534), ('Virat Kohli', 24936)]\n",
    "\n",
    "l.sort(key = lambda x: x[1])"
   ]
  },
  {
   "cell_type": "code",
   "execution_count": 8,
   "id": "319db554-9a25-47a2-8c5b-ef7f928b1188",
   "metadata": {},
   "outputs": [
    {
     "data": {
      "text/plain": [
       "[('Virat Kohli', 24936),\n",
       " ('Jack Kallis', 25534),\n",
       " ('Ricky Ponting', 27483),\n",
       " ('Sachin Tendulkar', 34357)]"
      ]
     },
     "execution_count": 8,
     "metadata": {},
     "output_type": "execute_result"
    }
   ],
   "source": [
    "l"
   ]
  },
  {
   "cell_type": "code",
   "execution_count": 9,
   "id": "ef7e9b75-e5b5-4e06-8d22-f3dd6bfdb6d7",
   "metadata": {},
   "outputs": [],
   "source": [
    "# ANS 2\n",
    "ex = [1, 2, 3, 4, 5, 6, 7, 8, 9, 10]"
   ]
  },
  {
   "cell_type": "code",
   "execution_count": 11,
   "id": "3c39365e-2ea5-4157-9115-284ed48f8ed0",
   "metadata": {},
   "outputs": [
    {
     "data": {
      "text/plain": [
       "[1, 4, 9, 16, 25, 36, 49, 64, 81, 100]"
      ]
     },
     "execution_count": 11,
     "metadata": {},
     "output_type": "execute_result"
    }
   ],
   "source": [
    "list ( map(lambda x : x**2 , ex))"
   ]
  },
  {
   "cell_type": "code",
   "execution_count": 12,
   "id": "511059fe-1831-4ba8-b4ee-33c343af8ca0",
   "metadata": {},
   "outputs": [],
   "source": [
    "#ANS 3 \n",
    "ex1= [1, 2, 3, 4, 5, 6, 7, 8, 9, 10]"
   ]
  },
  {
   "cell_type": "code",
   "execution_count": 17,
   "id": "d8c1517b-5b37-4566-84cf-8aa1fb48a5ee",
   "metadata": {},
   "outputs": [
    {
     "data": {
      "text/plain": [
       "['1', '2', '3', '4', '5', '6', '7', '8', '9', '10']"
      ]
     },
     "execution_count": 17,
     "metadata": {},
     "output_type": "execute_result"
    }
   ],
   "source": [
    "list(map(lambda x : str(x) , ex1))"
   ]
  },
  {
   "cell_type": "code",
   "execution_count": 20,
   "id": "37e3c75f-113e-43db-87f7-39d7493bbe60",
   "metadata": {},
   "outputs": [],
   "source": [
    "#ANS 4\n",
    "from functools import reduce\n",
    "l1= list(range(1,26))"
   ]
  },
  {
   "cell_type": "code",
   "execution_count": 21,
   "id": "80c9560b-c623-4eac-937b-f36afab9c57f",
   "metadata": {},
   "outputs": [
    {
     "data": {
      "text/plain": [
       "15511210043330985984000000"
      ]
     },
     "execution_count": 21,
     "metadata": {},
     "output_type": "execute_result"
    }
   ],
   "source": [
    "reduce(lambda x,y: x*y , l1)"
   ]
  },
  {
   "cell_type": "code",
   "execution_count": 28,
   "id": "9d841298-36d0-40a1-bc38-4a6ab79a7921",
   "metadata": {},
   "outputs": [],
   "source": [
    "#ANS 5\n",
    "l2 = [2, 3, 6, 9, 27, 60, 90, 120, 55, 46]"
   ]
  },
  {
   "cell_type": "code",
   "execution_count": 29,
   "id": "8d452e6f-95b6-434a-85e6-ed1022b7273c",
   "metadata": {},
   "outputs": [
    {
     "data": {
      "text/plain": [
       "[6, 60, 90, 120]"
      ]
     },
     "execution_count": 29,
     "metadata": {},
     "output_type": "execute_result"
    }
   ],
   "source": [
    "list(filter(lambda x : (x%2==0 and x%3==0) ,l2))"
   ]
  },
  {
   "cell_type": "code",
   "execution_count": 36,
   "id": "636192ab-cc8b-4bf3-912c-6d0f0091807f",
   "metadata": {},
   "outputs": [],
   "source": [
    "# ANS 6\n",
    "pal = ['python', 'php', 'aba', 'radar', 'level']"
   ]
  },
  {
   "cell_type": "code",
   "execution_count": 37,
   "id": "9aba8d1a-e1e9-48cc-bd97-d04df6f0215c",
   "metadata": {},
   "outputs": [
    {
     "data": {
      "text/plain": [
       "['php', 'aba', 'radar', 'level']"
      ]
     },
     "execution_count": 37,
     "metadata": {},
     "output_type": "execute_result"
    }
   ],
   "source": [
    "list(filter( lambda x : x==x[::-1] , pal)) "
   ]
  }
 ],
 "metadata": {
  "kernelspec": {
   "display_name": "Python 3 (ipykernel)",
   "language": "python",
   "name": "python3"
  },
  "language_info": {
   "codemirror_mode": {
    "name": "ipython",
    "version": 3
   },
   "file_extension": ".py",
   "mimetype": "text/x-python",
   "name": "python",
   "nbconvert_exporter": "python",
   "pygments_lexer": "ipython3",
   "version": "3.10.8"
  }
 },
 "nbformat": 4,
 "nbformat_minor": 5
}
