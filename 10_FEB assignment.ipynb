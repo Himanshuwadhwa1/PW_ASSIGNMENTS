{
 "cells": [
  {
   "cell_type": "markdown",
   "id": "453b82fa-42f0-45f1-8517-829b7521abc0",
   "metadata": {},
   "source": [
    "10 FEB ASSIGNMENT"
   ]
  },
  {
   "cell_type": "markdown",
   "id": "3846e986-8e0a-46c9-856b-fb79ab5cdbed",
   "metadata": {},
   "source": [
    "ANS1\n",
    "\n",
    "In Python, the built-in function 'open()' is used to open a file. The 'open()' function takes two parameters: the name of the file to be opened and the mode in which the file should be opened\n",
    "\n",
    "\n",
    "The different modes of opening a file in Python are:\n",
    "\n",
    "\n",
    "'r' (read-only mode): This mode is used to open a file for reading only. The file pointer is placed at the beginning of the file. If the file does not exist, a FileNotFoundError is raised.\n",
    "\n",
    "\n",
    "'w' (write mode): This mode is used to open a file for writing. If the file already exists, its contents are truncated (i.e., deleted). If the file does not exist, a new file with the given name is created.\n",
    "\n",
    "\n",
    "'a' (append mode): This mode is used to open a file for writing. The file pointer is placed at the end of the file. If the file does not exist, a new file with the given name is created.\n",
    "\n",
    "\n",
    "'x' (exclusive creation mode): This mode is used to open a file for writing. If the file already exists, a FileExistsError is raised. If the file does not exist, a new file with the given name is created.\n",
    "\n",
    "\n",
    "'b' (binary mode): This mode is used to open a file in binary mode. The file is read and written in binary format, rather than the default text format.\n",
    "\n",
    "\n",
    "You can combine these modes by using one or more of them together. For example, 'rb' means binary mode read-only, and 'wb' means write in binary mode.\n"
   ]
  },
  {
   "cell_type": "markdown",
   "id": "f4d319e1-675d-4eaf-b8d4-7de44db8840a",
   "metadata": {},
   "source": [
    "ANS2 \n",
    "\n",
    "The close() function is used to close an open file in Python. It is important to close a file after you are done with it for the following reasons:\n",
    "\n",
    "\n",
    "Releasing resources: When a file is open, system resources such as memory and file descriptors are allocated to that file. By closing the file, you release these resources back to the system, making them available for other processes.\n",
    "\n",
    "\n",
    "Flushing changes: When you write to a file, the changes are not always immediately saved to disk. By closing the file, you ensure that any changes you have made are flushed to disk and the file is properly updated.\n",
    "\n",
    "\n",
    "Preventing data corruption: If you don't close a file properly, the file can become corrupted. For example, if you are writing to a file and the process is terminated before the file is closed, the contents of the file may be lost or become inconsistent. Closing the file ensures that all changes are properly saved and the file is in a consistent state."
   ]
  },
  {
   "cell_type": "code",
   "execution_count": 1,
   "id": "bf477978-ebed-4ada-af4f-88caba2faedd",
   "metadata": {},
   "outputs": [],
   "source": [
    "# ANS 3 \n",
    "with open(\"text.txt\" , 'w') as f:\n",
    "    f.write(\"I want to become a Data Scientist\")\n",
    "    f.close()"
   ]
  },
  {
   "cell_type": "code",
   "execution_count": 7,
   "id": "2aa7ef32-116c-4ed3-a6eb-dec77c876213",
   "metadata": {},
   "outputs": [],
   "source": [
    "with open(\"text.txt\",'r') as f:\n",
    "    read = f.read()\n",
    "    f.close()"
   ]
  },
  {
   "cell_type": "code",
   "execution_count": 8,
   "id": "41ab824d-ed3a-4888-a069-a71388fcef57",
   "metadata": {},
   "outputs": [
    {
     "data": {
      "text/plain": [
       "'I want to become a Data Scientist'"
      ]
     },
     "execution_count": 8,
     "metadata": {},
     "output_type": "execute_result"
    }
   ],
   "source": [
    "read"
   ]
  },
  {
   "cell_type": "markdown",
   "id": "98de9f94-3fc1-4768-85b2-d28e41edf957",
   "metadata": {},
   "source": [
    "ANS 4\n",
    "\n",
    "read(): The read()__ method reads the entire contents of a file and returns it as a single string"
   ]
  },
  {
   "cell_type": "code",
   "execution_count": 9,
   "id": "4a65b1cd-4362-4629-a9f9-0cda1a8afca6",
   "metadata": {},
   "outputs": [],
   "source": [
    "with open(\"text.txt\",'r') as f:\n",
    "    read = f.read()\n",
    "    f.close()"
   ]
  },
  {
   "cell_type": "code",
   "execution_count": 10,
   "id": "1d167f2f-1973-47e6-9d00-17a0df966876",
   "metadata": {},
   "outputs": [
    {
     "data": {
      "text/plain": [
       "'I want to become a Data Scientist'"
      ]
     },
     "execution_count": 10,
     "metadata": {},
     "output_type": "execute_result"
    }
   ],
   "source": [
    "read"
   ]
  },
  {
   "cell_type": "markdown",
   "id": "529ba817-6289-4580-8c63-e03f1b9169cb",
   "metadata": {},
   "source": [
    "readline(): The readline() method reads a single line from the file and returns it as a string."
   ]
  },
  {
   "cell_type": "code",
   "execution_count": 11,
   "id": "3464839e-4870-4110-b135-946ed31568bc",
   "metadata": {},
   "outputs": [],
   "source": [
    "with open(\"test.txt\",'w') as f:\n",
    "    f.write(\"Hello my name is Himanshu Wadhwa\")\n",
    "    f.write(\"Nice to meet you\")\n",
    "    f.write(\" I want to be a Data scientist\")\n",
    "    f.close()"
   ]
  },
  {
   "cell_type": "code",
   "execution_count": 26,
   "id": "2d340abb-a12b-4de1-a564-1d565c7fa6cb",
   "metadata": {},
   "outputs": [
    {
     "data": {
      "text/plain": [
       "'ame is Himanshu WadhwaNice to meet you I want to be a Data scientist'"
      ]
     },
     "execution_count": 26,
     "metadata": {},
     "output_type": "execute_result"
    }
   ],
   "source": [
    "f = open(\"test.txt\",\"r\")\n",
    "f.readline()\n",
    "f.seek(10)\n",
    "f.readline()\n",
    "\n",
    "    "
   ]
  },
  {
   "cell_type": "code",
   "execution_count": 27,
   "id": "5c2a8859-1bad-4e22-8a1e-5f1157656edc",
   "metadata": {},
   "outputs": [],
   "source": [
    "f.close()"
   ]
  },
  {
   "cell_type": "markdown",
   "id": "bcdd727b-e361-4285-afcb-f2d48fb244e2",
   "metadata": {},
   "source": [
    "readlines(): The readlines() method reads all the lines of the file and returns them as a list of strings."
   ]
  },
  {
   "cell_type": "code",
   "execution_count": 28,
   "id": "8e150b0e-4a6e-4d57-9c8a-76181ea39721",
   "metadata": {},
   "outputs": [
    {
     "name": "stdout",
     "output_type": "stream",
     "text": [
      "Hello my name is Himanshu WadhwaNice to meet you I want to be a Data scientist\n"
     ]
    }
   ],
   "source": [
    "with open(\"test.txt\", \"r\") as f:\n",
    "    lines = f.readlines()\n",
    "    for i in lines:\n",
    "        print(i)"
   ]
  },
  {
   "cell_type": "markdown",
   "id": "05662604-644b-40ae-989a-dd5ecc005833",
   "metadata": {},
   "source": [
    "ANS 5\n",
    "\n",
    "The with statement is used with open() in Python to ensure that the file is properly closed after it has been used. The with statement provides a convenient way to manage the lifetime of a file and ensures that the file is properly closed, even if an error occurs while working with the file.\n",
    "\n",
    "\n",
    "The advantage of using the with statement and open() together is that it makes it easier to write robust and error-free code. By using the with statement, you don't have to worry about forgetting to close the file or about the file being left open if an error occurs."
   ]
  },
  {
   "cell_type": "markdown",
   "id": "520874ee-9b7b-454d-88cd-6b44e86d357a",
   "metadata": {},
   "source": [
    "ANS 6\n",
    "\n",
    "write(): The write() function writes a string to the file. The string is passed as an argument to the write() function"
   ]
  },
  {
   "cell_type": "code",
   "execution_count": 29,
   "id": "b17ac1e9-cda0-4006-83a4-093fa233cd4a",
   "metadata": {},
   "outputs": [],
   "source": [
    "with open(\"text1.txt\", \"w\") as f:\n",
    "    f.write(\"Hello World\")"
   ]
  },
  {
   "cell_type": "markdown",
   "id": "11374cdf-76aa-4abf-866e-26a1a378b07b",
   "metadata": {},
   "source": [
    "writelines(): The writelines() function writes a list of strings to the file. The list of strings is passed as an argument to the writelines() function."
   ]
  },
  {
   "cell_type": "code",
   "execution_count": 31,
   "id": "2c20ea68-82d8-461f-9e2b-73f7f1df3860",
   "metadata": {},
   "outputs": [],
   "source": [
    "lines = [\"My name is Himanshu Wadhwa\" , \"I want to become a Data Scientist\"]\n",
    "\n",
    "with open(\"text1.txt\", \"w\") as f:\n",
    "    f.writelines(lines)"
   ]
  },
  {
   "cell_type": "code",
   "execution_count": null,
   "id": "6ef9c33d-67e2-491b-84a5-b73ebe672bd0",
   "metadata": {},
   "outputs": [],
   "source": []
  }
 ],
 "metadata": {
  "kernelspec": {
   "display_name": "Python 3 (ipykernel)",
   "language": "python",
   "name": "python3"
  },
  "language_info": {
   "codemirror_mode": {
    "name": "ipython",
    "version": 3
   },
   "file_extension": ".py",
   "mimetype": "text/x-python",
   "name": "python",
   "nbconvert_exporter": "python",
   "pygments_lexer": "ipython3",
   "version": "3.10.8"
  }
 },
 "nbformat": 4,
 "nbformat_minor": 5
}
