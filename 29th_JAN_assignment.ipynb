{
 "cells": [
  {
   "cell_type": "code",
   "execution_count": null,
   "id": "351dd2dd-4d02-44b0-8427-62f762b9deea",
   "metadata": {},
   "outputs": [],
   "source": [
    "29 JAN\t\t\tHIMANSHU WADHWA \n",
    "ANS1 : Guido van Rossum\n",
    "ANS2: Python is an  interactive, object-oriented , interpreted programming language\n",
    "ANS3 : Yes\n",
    "ANS4: .py\n",
    "ANS5 : Interpreted language\n",
    "ANS6 : function , class definition ,a module\n",
    "ANS7 : # \n",
    "ANS8 : sys. , python_version() , Python -V command\n",
    "ANS9  : lamda\n",
    "ANS10 : Performance improvement Plan (PIP)\n",
    "ANS11 :    print()\n",
    "\ttype()\n",
    "\tset()\n",
    "\tdict()\n",
    "\tint()\n",
    "\tstr()\n",
    "\tfloat()\n",
    "ANS12 : 79 characters\n",
    "ANS13 : ->used in many industries like data science , web development,data analyst etc.\n",
    "->vast number of libraries\n",
    "-> open source\n",
    "-> easy to learn and easy to understand\n",
    "ANS14 :  Python uses the dynamic memory allocation which is managed by the Heap data structure. \n",
    "Memory Heap holds the objects and other data structures that will be used in the program. \n",
    "Python memory manager manages the allocation or de-allocation of the heap memory space through the API functions.\n",
    "ANS15 : Install python from www.python.org \n",
    "\tthen\n",
    "\tThe complete path of python.exe can be added by:\n",
    "\n",
    "Right-clicking This PC and going to Properties.\n",
    "\n",
    "Clicking on the Advanced system settings in the menu on the left.\n",
    "\n",
    "Clicking on the Environment Variables button o​n the bottom right.\n",
    "\n",
    "In the System variables section, selecting the Path variable and clicking on Edit. The next screen will show all the directories that are currently a part of the PATH variable.\n",
    "\n",
    "Clicking on New and entering Python’s install directory.\n",
    "ANS16 : Yes, indentation is required in python like syntax for conditional statemenets, loops , etc.\n"
   ]
  }
 ],
 "metadata": {
  "kernelspec": {
   "display_name": "Python 3 (ipykernel)",
   "language": "python",
   "name": "python3"
  },
  "language_info": {
   "codemirror_mode": {
    "name": "ipython",
    "version": 3
   },
   "file_extension": ".py",
   "mimetype": "text/x-python",
   "name": "python",
   "nbconvert_exporter": "python",
   "pygments_lexer": "ipython3",
   "version": "3.10.8"
  }
 },
 "nbformat": 4,
 "nbformat_minor": 5
}
