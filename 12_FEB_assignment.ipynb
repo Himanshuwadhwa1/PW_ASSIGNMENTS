{
 "cells": [
  {
   "cell_type": "markdown",
   "id": "ceda1330-3c24-4890-907a-761025763f5e",
   "metadata": {},
   "source": [
    "Q1. What is an Exception in python? Write the difference between Exception and Syntax errors"
   ]
  },
  {
   "cell_type": "markdown",
   "id": "26dc3c41-5d2a-4263-a5a7-3c4ef48bb9bf",
   "metadata": {},
   "source": [
    "An exception in Python is an error that occurs during the execution of a program. It may be due to an unexpected behavior in the code, such as dividing by zero or trying to access an element in a list with an index that is out of bounds.\n",
    "\n",
    "Exception handling is the process of catching and handling exceptions that occur during the execution of a program. This enables you to write robust and error-free code, as you can handle exceptions in a way that doesn't cause the entire program to crash.\n",
    "\n",
    "On the other hand, a syntax error in Python occurs when the code is written in an incorrect syntax. It occurs when the code does not follow the proper structure and rules of the language. For example, forgetting to include a colon at the end of an if statement or misplacing indentation are common syntax errors.\n",
    "\n",
    "In summary, exceptions are runtime errors that occur during the execution of the code, while syntax errors are compile-time errors that occur due to incorrect code structure."
   ]
  },
  {
   "cell_type": "markdown",
   "id": "56ebc88f-0bb8-4fe6-8205-1ec168621c93",
   "metadata": {},
   "source": [
    "Q2. what happens when an exception is not handled ? Explain with an example"
   ]
  },
  {
   "cell_type": "markdown",
   "id": "d7372ee9-8080-47c4-b6f2-161785bfb407",
   "metadata": {},
   "source": [
    "When an exception is not handled, the program will stop executing and raise the exception. The details of the exception, including the type of the exception and a traceback of the error, will be printed to the console. This is called an unhandled exception."
   ]
  },
  {
   "cell_type": "code",
   "execution_count": 1,
   "id": "d298719d-8e82-4d70-93ae-03593249a4ec",
   "metadata": {},
   "outputs": [
    {
     "ename": "ZeroDivisionError",
     "evalue": "division by zero",
     "output_type": "error",
     "traceback": [
      "\u001b[0;31m---------------------------------------------------------------------------\u001b[0m",
      "\u001b[0;31mZeroDivisionError\u001b[0m                         Traceback (most recent call last)",
      "Cell \u001b[0;32mIn[1], line 4\u001b[0m\n\u001b[1;32m      1\u001b[0m \u001b[38;5;28;01mdef\u001b[39;00m \u001b[38;5;21mdivide\u001b[39m(a,b):\n\u001b[1;32m      2\u001b[0m     \u001b[38;5;28;01mreturn\u001b[39;00m a\u001b[38;5;241m/\u001b[39mb\n\u001b[0;32m----> 4\u001b[0m \u001b[38;5;28mprint\u001b[39m(\u001b[43mdivide\u001b[49m\u001b[43m(\u001b[49m\u001b[38;5;241;43m10\u001b[39;49m\u001b[43m,\u001b[49m\u001b[38;5;241;43m0\u001b[39;49m\u001b[43m)\u001b[49m)\n",
      "Cell \u001b[0;32mIn[1], line 2\u001b[0m, in \u001b[0;36mdivide\u001b[0;34m(a, b)\u001b[0m\n\u001b[1;32m      1\u001b[0m \u001b[38;5;28;01mdef\u001b[39;00m \u001b[38;5;21mdivide\u001b[39m(a,b):\n\u001b[0;32m----> 2\u001b[0m     \u001b[38;5;28;01mreturn\u001b[39;00m \u001b[43ma\u001b[49m\u001b[38;5;241;43m/\u001b[39;49m\u001b[43mb\u001b[49m\n",
      "\u001b[0;31mZeroDivisionError\u001b[0m: division by zero"
     ]
    }
   ],
   "source": [
    "def divide(a,b):\n",
    "    return a/b\n",
    "\n",
    "print(divide(10,0))"
   ]
  },
  {
   "cell_type": "markdown",
   "id": "f41896a1-710d-4661-aa1a-a5379e9ce1a3",
   "metadata": {},
   "source": [
    "Q3. Which Python statement are used to catch and handle exception? Explain with an example"
   ]
  },
  {
   "cell_type": "markdown",
   "id": "f1c42cb7-8cb1-4ce2-b016-fe78c1e7aacc",
   "metadata": {},
   "source": [
    "The try and except statements are used to catch and handle exceptions in Python. The try statement allows you to write code that might raise an exception, and the except statement allows you to handle the exception if one is raised."
   ]
  },
  {
   "cell_type": "code",
   "execution_count": 4,
   "id": "8fa2cfbb-8f7a-4329-ab0e-2a08ce997869",
   "metadata": {},
   "outputs": [
    {
     "name": "stdout",
     "output_type": "stream",
     "text": [
      "Division by zero\n",
      "44\n"
     ]
    }
   ],
   "source": [
    "try:\n",
    "    val=int(1/0)    \n",
    "except ZeroDivisionError:\n",
    "    print(\"Division by zero\")\n",
    "    \n",
    "print(11+33)"
   ]
  },
  {
   "cell_type": "markdown",
   "id": "02a05b9b-61ba-4ee3-9f7d-f38c4acc9500",
   "metadata": {},
   "source": [
    "Q4. Explain with an example:\n",
    "\n",
    "a. try and else b. finally c. raise"
   ]
  },
  {
   "cell_type": "markdown",
   "id": "cd64b70a-8325-4da4-bf2c-31729e4a0011",
   "metadata": {},
   "source": [
    "a. try and else:\n",
    "\n",
    "The else clause in a try statement can be used to specify code that should be executed if no exceptions are raised in the try block."
   ]
  },
  {
   "cell_type": "code",
   "execution_count": 5,
   "id": "fd8aa4a3-0188-459a-b647-3ddf847ee08a",
   "metadata": {},
   "outputs": [
    {
     "name": "stdout",
     "output_type": "stream",
     "text": [
      "5.0\n"
     ]
    }
   ],
   "source": [
    "try:\n",
    "    val=10/2\n",
    "    \n",
    "except ZeroDivisionError:\n",
    "    print(\"Division by zero\")\n",
    "    \n",
    "else:\n",
    "    print(val)"
   ]
  },
  {
   "cell_type": "markdown",
   "id": "796f4a53-b378-4532-86ed-fe22a65e9816",
   "metadata": {},
   "source": [
    "b. finally:"
   ]
  },
  {
   "cell_type": "markdown",
   "id": "40db5c60-ff02-4c2a-9198-35f7f9fa1859",
   "metadata": {},
   "source": [
    "The finally clause in a try statement can be used to specify code that should be executed regardless of whether an exception was raised or not."
   ]
  },
  {
   "cell_type": "code",
   "execution_count": 6,
   "id": "2db6641e-bb43-4467-87a3-9e6591c1e230",
   "metadata": {},
   "outputs": [
    {
     "name": "stdout",
     "output_type": "stream",
     "text": [
      "Division by Zero\n",
      "This Final Block will be executed\n"
     ]
    }
   ],
   "source": [
    "try:\n",
    "    val=10/0\n",
    "    \n",
    "except ZeroDivisionError:\n",
    "    print(\"Division by Zero\")\n",
    "    \n",
    "finally:\n",
    "    print(\"This Final Block will be executed\")"
   ]
  },
  {
   "cell_type": "markdown",
   "id": "b3ef35a9-b5ef-49c4-acf9-c3748621f7db",
   "metadata": {},
   "source": [
    "c. raise:\n",
    "    \n",
    "The raise statement allows you to raise an exception in your code. You can raise a built-in exception or create a custom exception by defining a new exception class."
   ]
  },
  {
   "cell_type": "code",
   "execution_count": 9,
   "id": "d1276688-1738-4a15-b638-570b429b2502",
   "metadata": {},
   "outputs": [
    {
     "name": "stdout",
     "output_type": "stream",
     "text": [
      "This is custom error with the help of raise \n"
     ]
    }
   ],
   "source": [
    "class NewException(Exception):\n",
    "    def __init__(self,msg):\n",
    "        self.msg = msg\n",
    "\n",
    "def NewFunc():\n",
    "    raise NewException(\"This is custom error with the help of raise \")\n",
    "\n",
    "try:\n",
    "    NewFunc()\n",
    "except NewException as e:\n",
    "    print(e)"
   ]
  },
  {
   "cell_type": "markdown",
   "id": "b2334b39-b306-4f69-9764-49027408c539",
   "metadata": {},
   "source": [
    "Q4.What are the custom exceptions in python? why do we need the custom exception? Explain with an example"
   ]
  },
  {
   "cell_type": "markdown",
   "id": "c65a1175-4329-426e-8773-fa5672b269a4",
   "metadata": {},
   "source": [
    "Custom exceptions in Python are user-defined exceptions that can be raised and caught in the same way as built-in exceptions.\n",
    "\n",
    "Custom exceptions allow you to provide more meaningful error messages and handle specific error conditions in a way that makes sense for your application"
   ]
  },
  {
   "cell_type": "code",
   "execution_count": 11,
   "id": "0d631865-b6c9-4896-8f6d-7afd1ee5ed3d",
   "metadata": {},
   "outputs": [
    {
     "name": "stdout",
     "output_type": "stream",
     "text": [
      "Input must be non negative\n"
     ]
    }
   ],
   "source": [
    "class NegativeError(Exception):\n",
    "    def __init__(self,msg):\n",
    "        self.msg = msg\n",
    "\n",
    "def square_root(val):\n",
    "    if val<0:\n",
    "        raise NegativeError(\"Input must be non negative\")\n",
    "        \n",
    "try:\n",
    "    result=square_root(-1)\n",
    "except NegativeError as e:\n",
    "    print(e)"
   ]
  },
  {
   "cell_type": "markdown",
   "id": "21ced542-e6b0-4033-9772-9d81e9b67f4e",
   "metadata": {},
   "source": [
    "Q6. Create a custom exception class.Use this class to handle an exception"
   ]
  },
  {
   "cell_type": "code",
   "execution_count": 13,
   "id": "ab489a81-8895-425c-96eb-b218f065e8a9",
   "metadata": {},
   "outputs": [
    {
     "name": "stdout",
     "output_type": "stream",
     "text": [
      "error Age must be positive number\n"
     ]
    }
   ],
   "source": [
    "class Invalid_age(Exception):\n",
    "    def __init__(self,msg):\n",
    "        self.msg=msg\n",
    "        \n",
    "def val_age(age):\n",
    "    if age<0:\n",
    "        raise Invalid_age(\"Age must be positive number\")\n",
    "            \n",
    "try:\n",
    "    val_age(-1)\n",
    "    \n",
    "except Invalid_age as e:\n",
    "    print('error',e)"
   ]
  },
  {
   "cell_type": "code",
   "execution_count": null,
   "id": "d6d5ec56-97dd-45fe-bba3-32ea973a42d7",
   "metadata": {},
   "outputs": [],
   "source": []
  }
 ],
 "metadata": {
  "kernelspec": {
   "display_name": "Python 3 (ipykernel)",
   "language": "python",
   "name": "python3"
  },
  "language_info": {
   "codemirror_mode": {
    "name": "ipython",
    "version": 3
   },
   "file_extension": ".py",
   "mimetype": "text/x-python",
   "name": "python",
   "nbconvert_exporter": "python",
   "pygments_lexer": "ipython3",
   "version": "3.10.8"
  }
 },
 "nbformat": 4,
 "nbformat_minor": 5
}
