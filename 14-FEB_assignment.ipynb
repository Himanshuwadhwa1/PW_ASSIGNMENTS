{
 "cells": [
  {
   "cell_type": "markdown",
   "id": "477711f5-c888-498c-8b18-3034c6620c06",
   "metadata": {},
   "source": [
    "14-FEB_assignment"
   ]
  },
  {
   "cell_type": "raw",
   "id": "f216f36d-1abe-4b30-9201-b0a30b5e7979",
   "metadata": {},
   "source": [
    "#ANS1\n",
    "\n",
    "Multithreading allows a Python program to execute multiple sequences of instructions (threads) concurrently. While a single CPU core can only truly execute one instruction at a time, the operating system rapidly switches between threads. This can improve the responsiveness of your application.\n",
    "\n",
    "It is used to:\n",
    "    Improved responsiveness\n",
    "    Efficient utilization of resources\n",
    "    Simplified program structure\n",
    "    \n",
    "threading module is currently used to handle threads in python."
   ]
  },
  {
   "cell_type": "raw",
   "id": "7baf0016-e921-49d1-baec-810eb2e10482",
   "metadata": {},
   "source": [
    "#ANS2\n",
    "threading module is used to handle threads in python which helps in:\n",
    "    Improved responsiveness\n",
    "    Efficient utilization of resources\n",
    "    Simplified program structure\n",
    "    \n",
    "activeCount(): This function returns the number of active thread objects currently in your Python program. An active thread object is one that has been created and either isn't finished executing its code (running) or hasn't yet been started.\n",
    "\n",
    "currentThread(): This function returns the current thread object. The current thread is the thread that's currently executing the code where you call currentThread().\n",
    "\n",
    "enumerate(): This function returns a list of all thread objects that are currently active. This includes the main thread (the thread that starts your program execution) as well as any threads you've created using the threading module."
   ]
  },
  {
   "cell_type": "raw",
   "id": "2697a195-1245-477c-a709-3865733d9e88",
   "metadata": {},
   "source": [
    "#ANS3 \n",
    "run(): This method is the entry point for the thread's execution. It defines the code that the thread will run concurrently with the main thread or other threads.\n",
    "\n",
    "start():This method is used to initiate the execution of a thread. It's responsible for:Allocating resources for the thread and starting the thread scheduler to run the thread's run() method in a separate thread of control.\n",
    "\n",
    "join():This method is used to wait for a thread to finish its execution. When you call join() on a thread object, the calling thread (usually the main thread) will block until the target thread finishes its run() method.\n",
    "\n",
    "isAlive():This method is used to check if a thread is still alive (active). It returns True if the thread is currently running its run() method or hasn't been started yet."
   ]
  },
  {
   "cell_type": "code",
   "execution_count": 6,
   "id": "3f3e99f2-f28c-4958-80ff-adf321dc8c29",
   "metadata": {},
   "outputs": [
    {
     "name": "stdin",
     "output_type": "stream",
     "text": [
      "Enter the number of elements to print:  5\n"
     ]
    },
    {
     "name": "stdout",
     "output_type": "stream",
     "text": [
      "The first 5 squares:The first 5 cubes:\n",
      "1 8 27 64 125 \n",
      "\n",
      "1 4 9 16 25 \n"
     ]
    }
   ],
   "source": [
    "#ANS 4\n",
    "import threading\n",
    "\n",
    "def print_squares(num):\n",
    "  print(\"The first %d squares:\" % num)\n",
    "  for i in range(1, num + 1):\n",
    "    print(i * i, end=\" \")\n",
    "  print()\n",
    "\n",
    "def print_cubes(num):\n",
    "  print(\"The first %d cubes:\" % num)\n",
    "  for i in range(1, num + 1):\n",
    "    print(i * i * i, end=\" \")\n",
    "  print()\n",
    "\n",
    "\n",
    "num = int(input(\"Enter the number of elements to print: \"))\n",
    "\n",
    "\n",
    "thread1 = threading.Thread(target=print_squares, args=(num,))\n",
    "thread2 = threading.Thread(target=print_cubes, args=(num,))\n",
    "\n",
    "thread1.start()\n",
    "thread2.start()"
   ]
  },
  {
   "cell_type": "raw",
   "id": "e506473b-9975-4748-9fbf-782110222b4b",
   "metadata": {},
   "source": [
    "#ANS5\n",
    "\n",
    "Advantages of multithreading:\n",
    "\n",
    "\n",
    "Improved responsiveness: Keeps the application responsive by handling long-running tasks in separate threads.\n",
    "\n",
    "Better resource utilization: Makes efficient use of multi-core processors by running tasks concurrently.\n",
    "\n",
    "Simplified program structure: Complex tasks can be broken down into smaller, more manageable threads.\n",
    "\n",
    "\n",
    "Disadvantages of multithreading:\n",
    "\n",
    "\n",
    "Increased complexity: Multithreaded code can be harder to write, debug, and test due to potential synchronization issues.\n",
    "\n",
    "Overhead: Creating and managing threads introduces some overhead compared to single-threaded execution.\n",
    "\n",
    "Global Interpreter Lock (GIL) in Python: In Python, the GIL can limit performance gains for CPU-bound tasks in single-core environments."
   ]
  },
  {
   "cell_type": "raw",
   "id": "ddb52d49-c62e-4ce9-920c-5a662a086325",
   "metadata": {},
   "source": [
    "#ANS6\n",
    "\n",
    "Deadlocks occur when threads each hold a lock on a resource and wait for another lock held by a different thread. This creates a waiting loop with no progress.\n",
    "\n",
    "A race condition happens when multiple threads access and modify shared data concurrently, and the final outcome depends on unpredictable timing. This can lead to inconsistent or incorrect results."
   ]
  },
  {
   "cell_type": "code",
   "execution_count": null,
   "id": "0c78fdf9-d176-4c3a-9972-1777f10069b8",
   "metadata": {},
   "outputs": [],
   "source": []
  }
 ],
 "metadata": {
  "kernelspec": {
   "display_name": "Python 3 (ipykernel)",
   "language": "python",
   "name": "python3"
  },
  "language_info": {
   "codemirror_mode": {
    "name": "ipython",
    "version": 3
   },
   "file_extension": ".py",
   "mimetype": "text/x-python",
   "name": "python",
   "nbconvert_exporter": "python",
   "pygments_lexer": "ipython3",
   "version": "3.10.8"
  }
 },
 "nbformat": 4,
 "nbformat_minor": 5
}
