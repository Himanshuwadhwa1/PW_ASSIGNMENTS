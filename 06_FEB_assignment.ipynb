{
 "cells": [
  {
   "cell_type": "markdown",
   "id": "fbfd12dc-8b97-4876-a431-e470e47b2a82",
   "metadata": {},
   "source": [
    "06 FEB ASSIGNMENT"
   ]
  },
  {
   "cell_type": "markdown",
   "id": "dd157428-33d3-4fe6-8463-d28492b3f15b",
   "metadata": {},
   "source": [
    "Q1. Create a function which will take a list as an argument and return the product of all the numbers\n",
    "after creating a flat list.\n",
    "Use the below-given list as an argument for your function.\n",
    "\n",
    "list1 = [1,2,3,4, [44,55,66, True], False, (34,56,78,89,34), {1,2,3,3,2,1}, {1:34, \"key2\": [55, 67, 78, 89], 4: (45,\n",
    "22, 61, 34)}, [56, 'data science'], 'Machine Learning']"
   ]
  },
  {
   "cell_type": "code",
   "execution_count": 1,
   "id": "2c208807-91f5-48d5-887d-381a04d49e6c",
   "metadata": {},
   "outputs": [],
   "source": [
    "# ANS1\n",
    "list1 = [1,2,3,4, [44,55,66, True], False, (34,56,78,89,34), {1,2,3,3,2,1}, {1:34, \"key2\": [55, 67, 78, 89], 4: (45,\n",
    "22, 61, 34)}, [56, 'data science'], 'Machine Learning']"
   ]
  },
  {
   "cell_type": "code",
   "execution_count": 29,
   "id": "ab4ebbd1-ff27-47a6-b2a5-cb37274f44c2",
   "metadata": {},
   "outputs": [],
   "source": [
    "def listmaker(enter):\n",
    "    list2 = []\n",
    "    for item in enter :\n",
    "        if type(item) == int or type(item) == float:\n",
    "            list2.append(item)\n",
    "        elif type(item) == tuple :\n",
    "            for subItem in item:\n",
    "                if type(subItem) == int or type(subItem) == float :\n",
    "                    list2.append(subItem)\n",
    "        elif type(item) == set :\n",
    "            for subItem in item:\n",
    "                if type(subItem) == int or type(subItem) == float :\n",
    "                    list2.append(subItem)\n",
    "        elif type(item) == dict :\n",
    "            list3 = []\n",
    "            for key,value in item.items() :\n",
    "                if type(key) == int or type(key) == float:\n",
    "                    list3.append(key)\n",
    "                if type(value) == int or type(value) == float:\n",
    "                    list3.append(value)\n",
    "                if type(key) == tuple:\n",
    "                    for subItem in key:\n",
    "                        if type(subItem) == int or type(subItem) == float :\n",
    "                            list3.append(subItem)\n",
    "                if type(value) == tuple:\n",
    "                    for subItem in value:\n",
    "                        if type(subItem) == int or type(subItem) == float :\n",
    "                            list3.append(subItem)\n",
    "                if type(key) == list :\n",
    "                    for subItem in key :\n",
    "                        if type(subItem) == int or type(subItem) == float :\n",
    "                            list3.append(subItem)\n",
    "                if type(value) == list :\n",
    "                    for subItem in value :\n",
    "                        if type(subItem) == int or type(subItem) == float :\n",
    "                            list3.append(subItem)\n",
    "        elif type(item) == list:\n",
    "            for subItem in item :\n",
    "                if type(subItem) == int or type(subItem) == float :\n",
    "                    list2.append(subItem)\n",
    "    for i in list3:\n",
    "        list2.append(i)\n",
    "    return list2"
   ]
  },
  {
   "cell_type": "code",
   "execution_count": 30,
   "id": "8cdba777-80fc-46ca-bb30-b2761d893bd5",
   "metadata": {},
   "outputs": [],
   "source": [
    "list1 = [1,2,3,4, [44,55,66, True], False, (34,56,78,89,34), {1,2,3,3,2,1}, {1:34, \"key2\": [55, 67, 78, 89], 4: (45,\n",
    "22, 61, 34)}, [56, 'data science'], 'Machine Learning']"
   ]
  },
  {
   "cell_type": "code",
   "execution_count": 31,
   "id": "ff09a323-9c1f-419a-8b35-dbf3324a41d7",
   "metadata": {},
   "outputs": [
    {
     "name": "stdout",
     "output_type": "stream",
     "text": [
      "[1, 2, 3, 4, 44, 55, 66, 34, 56, 78, 89, 34, 1, 2, 3, 56, 1, 34, 55, 67, 78, 89, 4, 45, 22, 61, 34]\n"
     ]
    }
   ],
   "source": [
    "print(listmaker(list1))"
   ]
  },
  {
   "cell_type": "code",
   "execution_count": 32,
   "id": "6b6ba2d5-9a88-4d71-bbb5-5884bdaf3b34",
   "metadata": {},
   "outputs": [],
   "source": [
    "list0 = listmaker(list1)"
   ]
  },
  {
   "cell_type": "code",
   "execution_count": 33,
   "id": "7a7730be-ad75-4284-9ae3-cbfc454821a3",
   "metadata": {},
   "outputs": [],
   "source": [
    "from functools import reduce"
   ]
  },
  {
   "cell_type": "code",
   "execution_count": 34,
   "id": "7f22afe0-e4a8-4547-b241-ba7c3190320b",
   "metadata": {},
   "outputs": [
    {
     "data": {
      "text/plain": [
       "4134711838987085478833841242112000"
      ]
     },
     "execution_count": 34,
     "metadata": {},
     "output_type": "execute_result"
    }
   ],
   "source": [
    "reduce(lambda x,y : x*y , list0)"
   ]
  },
  {
   "cell_type": "code",
   "execution_count": 35,
   "id": "6322c4fa-1d59-4667-b821-3474a9972561",
   "metadata": {},
   "outputs": [],
   "source": [
    "def findproduct(list0):\n",
    "    product = 1\n",
    "    for i in list0 :\n",
    "        product = product * i\n",
    "    return product"
   ]
  },
  {
   "cell_type": "code",
   "execution_count": 36,
   "id": "143132f4-cb35-4ed0-85a7-bc3ac36aeeb9",
   "metadata": {},
   "outputs": [
    {
     "name": "stdout",
     "output_type": "stream",
     "text": [
      "4134711838987085478833841242112000\n"
     ]
    }
   ],
   "source": [
    "print(findproduct(list0))"
   ]
  },
  {
   "cell_type": "markdown",
   "id": "dbc1bc46-8ee8-4c16-bef7-86e7a938aea3",
   "metadata": {},
   "source": [
    "Q2. Write a python program for encrypting a message sent to you by your friend. The logic of encryption\n",
    "should be such that, for a the output should be z. For b, the output should be y. For c, the output should\n",
    "be x respectively. Also, the whitespace should be replaced with a dollar sign. Keep the punctuation\n",
    "marks unchanged.\n",
    "\n",
    "Input Sentence: I want to become a Data Scientist.\n",
    "\n",
    "Encrypt the above input sentence using the program you just created."
   ]
  },
  {
   "cell_type": "code",
   "execution_count": 48,
   "id": "290a45e1-b09c-44e5-b0a6-52a217c67b88",
   "metadata": {},
   "outputs": [],
   "source": [
    "#ANS 2\n",
    "inputSentence = \"I want to become a Data Scientist.\"\n",
    "enSentence = \"\"\n",
    "sentence = inputSentence.lower()\n",
    "enDict = {\"a\":\"z\" ,\n",
    "          \"b\":\"y\",\n",
    "          \"c\":\"x\",\n",
    "          \"d\":\"w\",\n",
    "          \"e\":\"v\",\n",
    "          \"f\":\"u\",\n",
    "          \"g\":\"t\",\n",
    "          \"h\":\"s\",\n",
    "          \"i\":\"r\",\n",
    "          \"j\":\"q\",\n",
    "          \"k\":\"p\",\n",
    "          \"l\":\"o\",\n",
    "          \"m\":\"n\",\n",
    "          \"n\":\"m\",\n",
    "          \"o\":\"l\",\n",
    "          \"p\":\"k\",\n",
    "          \"q\":\"j\",\n",
    "          \"r\":\"i\",\n",
    "          \"s\":\"h\",\n",
    "          \"t\":\"g\",\n",
    "          \"u\":\"f\",\n",
    "          \"v\":\"e\",\n",
    "          \"w\":\"d\",\n",
    "          \"x\":\"c\",\n",
    "          \"y\":\"b\",\n",
    "          \"z\":\"a\",\n",
    "          \" \":\"$\"}\n",
    "for i in sentence:\n",
    "    if i in enDict:\n",
    "        enSentence = enSentence + enDict[i]\n",
    "    else :\n",
    "        enSentence = enSentence + i"
   ]
  },
  {
   "cell_type": "code",
   "execution_count": 49,
   "id": "011da48a-2f3c-4b59-bb1a-acc65e9c7904",
   "metadata": {},
   "outputs": [
    {
     "name": "stdout",
     "output_type": "stream",
     "text": [
      "r$dzmg$gl$yvxlnv$z$wzgz$hxrvmgrhg.\n"
     ]
    }
   ],
   "source": [
    "print(enSentence)"
   ]
  },
  {
   "cell_type": "code",
   "execution_count": null,
   "id": "b7b2a8f7-2c2b-4030-a898-123551cefab7",
   "metadata": {},
   "outputs": [],
   "source": []
  }
 ],
 "metadata": {
  "kernelspec": {
   "display_name": "Python 3 (ipykernel)",
   "language": "python",
   "name": "python3"
  },
  "language_info": {
   "codemirror_mode": {
    "name": "ipython",
    "version": 3
   },
   "file_extension": ".py",
   "mimetype": "text/x-python",
   "name": "python",
   "nbconvert_exporter": "python",
   "pygments_lexer": "ipython3",
   "version": "3.10.8"
  }
 },
 "nbformat": 4,
 "nbformat_minor": 5
}
