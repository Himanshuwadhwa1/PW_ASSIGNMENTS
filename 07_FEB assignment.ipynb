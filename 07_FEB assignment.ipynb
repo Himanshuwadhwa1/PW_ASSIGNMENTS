{
 "cells": [
  {
   "cell_type": "markdown",
   "id": "206a8cfc-bed1-4cbf-926e-5074dce75ab9",
   "metadata": {},
   "source": [
    "05_FEB assignment"
   ]
  },
  {
   "cell_type": "markdown",
   "id": "a3eab6f0-fc3e-4f50-b712-4281f909e4c9",
   "metadata": {},
   "source": [
    "Q1.\n",
    "You are writing code for a company. The requirement of the company is that you create a python\n",
    "function that will check whether the password entered by the user is correct or not. The function should\n",
    "take the password as input and return the string “Valid Password” if the entered password follows the\n",
    "below-given password guidelines else it should return “Invalid Password”.\n",
    "\n",
    "Note:\n",
    "1. The Password should contain at least two uppercase letters and at least two lowercase letters.\n",
    "2. The Password should contain at least a number and three special characters.\n",
    "3. The length of the password should be 10 characters long."
   ]
  },
  {
   "cell_type": "code",
   "execution_count": 71,
   "id": "a54494e3-324c-4065-a848-d39ceefd3369",
   "metadata": {},
   "outputs": [],
   "source": [
    "def password(input_password):\n",
    "    special_char = 0\n",
    "    upper_char = 0 \n",
    "    lower_char = 0\n",
    "    num= 0\n",
    "    special_list = ['`','!','#','$','%','^','&','*','/','?','|','{','}','[',']','<','>','@']\n",
    "    num_list = ['1','2','3','4','5','6','7','8','9','0']\n",
    "    for char in input_password:\n",
    "        if char.isupper():\n",
    "            upper_char = upper_char +1\n",
    "        elif char.islower():\n",
    "            lower_char = lower_char +1\n",
    "        elif char in num_list :\n",
    "            num = num+1\n",
    "        elif char in special_list:\n",
    "            special_char = special_char +1\n",
    "    if upper_char >= 2 and lower_char >= 2 and num >= 1 and special_char >= 3 and len(input_password)>=10:\n",
    "        print(\"valid password\")\n",
    "    else :\n",
    "        print(\"invalid password\")"
   ]
  },
  {
   "cell_type": "code",
   "execution_count": 72,
   "id": "9dbcebc4-8059-4f0e-8f28-be5c882d5af4",
   "metadata": {},
   "outputs": [
    {
     "name": "stdout",
     "output_type": "stream",
     "text": [
      "valid password\n"
     ]
    }
   ],
   "source": [
    "input_pass = \"12HIManshu!@#\"\n",
    "password(input_pass)"
   ]
  },
  {
   "cell_type": "markdown",
   "id": "06ede796-84eb-4384-808a-0b7c7f7dc996",
   "metadata": {},
   "source": [
    "Q2. Solve the below-given questions using at least one of the following:\n",
    "\n",
    "1. Lambda function\n",
    "2. Filter function\n",
    "3. Map function\n",
    "4. List Comprehension\n",
    "\n",
    "B Check if the string starts with a particular letter.\n",
    "\n",
    "B Check if the string is numeric.\n",
    "\n",
    "B Sort a list of tuples having fruit names and their quantity. [(\"mango\",99),(\"orange\",80), (\"grapes\", 1000)]\n",
    "\n",
    "B Find the squares of numbers from 1 to 10.\n",
    "\n",
    "B Find the cube root of numbers from 1 to 10.\n",
    "\n",
    "B Check if a given number is even.\n",
    "\n",
    "B Filter odd numbers from the given list.\n",
    "[1,2,3,4,5,6,7,8,9,10]\n",
    "\n",
    "B Sort a list of integers into positive and negative integers lists.\n",
    "[1,2,3,4,5,6,-1,-2,-3,-4,-5,0]"
   ]
  },
  {
   "cell_type": "code",
   "execution_count": 10,
   "id": "c08ece49-7b28-47b3-9aa4-4f049f97bf2e",
   "metadata": {},
   "outputs": [],
   "source": [
    "# check if the string starts with a particular letter .\n",
    "check = lambda s :True if s.startswith('a') or s.startswith('A') else False"
   ]
  },
  {
   "cell_type": "code",
   "execution_count": 11,
   "id": "d8ecad5c-0bbb-46ea-9dd8-439e4834b84a",
   "metadata": {},
   "outputs": [
    {
     "data": {
      "text/plain": [
       "False"
      ]
     },
     "execution_count": 11,
     "metadata": {},
     "output_type": "execute_result"
    }
   ],
   "source": [
    "check(\"himanshu\")"
   ]
  },
  {
   "cell_type": "code",
   "execution_count": 12,
   "id": "8dc2a868-59d5-46dc-8075-dc97a4ed57c6",
   "metadata": {},
   "outputs": [
    {
     "data": {
      "text/plain": [
       "True"
      ]
     },
     "execution_count": 12,
     "metadata": {},
     "output_type": "execute_result"
    }
   ],
   "source": [
    "check(\"aman\")"
   ]
  },
  {
   "cell_type": "code",
   "execution_count": 13,
   "id": "50b16c35-70c3-48e5-806b-5b207b5ff285",
   "metadata": {},
   "outputs": [],
   "source": [
    "#Check if the string is numeric.\n",
    "check1 = lambda n : True if n.isnumeric() else False"
   ]
  },
  {
   "cell_type": "code",
   "execution_count": 14,
   "id": "2e6ba809-0970-4935-b8b0-243fc810176e",
   "metadata": {},
   "outputs": [
    {
     "data": {
      "text/plain": [
       "False"
      ]
     },
     "execution_count": 14,
     "metadata": {},
     "output_type": "execute_result"
    }
   ],
   "source": [
    "check1(\"123him\")"
   ]
  },
  {
   "cell_type": "code",
   "execution_count": 16,
   "id": "673af504-4223-4f82-8607-2f7c90e099ac",
   "metadata": {},
   "outputs": [
    {
     "data": {
      "text/plain": [
       "True"
      ]
     },
     "execution_count": 16,
     "metadata": {},
     "output_type": "execute_result"
    }
   ],
   "source": [
    "check1(\"123456\")"
   ]
  },
  {
   "cell_type": "code",
   "execution_count": 32,
   "id": "e7580697-90db-424d-b701-d28d9864a6a0",
   "metadata": {},
   "outputs": [],
   "source": [
    "#Sort a list of tuples having fruit names and their quantity. \n",
    "list1 = [(\"mango\",99),(\"orange\",80), (\"grapes\", 1000)]\n",
    "list1.sort(key = lambda x : x[0], reverse = True) # based on quantity"
   ]
  },
  {
   "cell_type": "code",
   "execution_count": 33,
   "id": "cdffac68-8cd2-4104-9075-68d338de583e",
   "metadata": {},
   "outputs": [
    {
     "data": {
      "text/plain": [
       "[('orange', 80), ('mango', 99), ('grapes', 1000)]"
      ]
     },
     "execution_count": 33,
     "metadata": {},
     "output_type": "execute_result"
    }
   ],
   "source": [
    "list1"
   ]
  },
  {
   "cell_type": "code",
   "execution_count": 34,
   "id": "3f121de9-55b3-4d70-a2ca-f15298deb6c0",
   "metadata": {},
   "outputs": [],
   "source": [
    "list1.sort(key = lambda x : x[1], reverse = True) # based on name"
   ]
  },
  {
   "cell_type": "code",
   "execution_count": 35,
   "id": "266787e6-c7ba-4a5f-8e6f-9a5731d7323a",
   "metadata": {},
   "outputs": [
    {
     "data": {
      "text/plain": [
       "[('grapes', 1000), ('mango', 99), ('orange', 80)]"
      ]
     },
     "execution_count": 35,
     "metadata": {},
     "output_type": "execute_result"
    }
   ],
   "source": [
    "list1"
   ]
  },
  {
   "cell_type": "code",
   "execution_count": 36,
   "id": "638d6bd4-ae2d-4593-84ef-bcd8ecd09b74",
   "metadata": {},
   "outputs": [
    {
     "data": {
      "text/plain": [
       "[1, 4, 9, 16, 25, 36, 49, 64, 81, 100]"
      ]
     },
     "execution_count": 36,
     "metadata": {},
     "output_type": "execute_result"
    }
   ],
   "source": [
    "# Find the squares of numbers from 1 to 10\n",
    "list(map( lambda x : x**2 , range(1,11)))"
   ]
  },
  {
   "cell_type": "code",
   "execution_count": 37,
   "id": "e4260f28-c55f-409f-a144-deff85679229",
   "metadata": {},
   "outputs": [
    {
     "data": {
      "text/plain": [
       "[1.0,\n",
       " 1.2599210498948732,\n",
       " 1.4422495703074083,\n",
       " 1.5874010519681994,\n",
       " 1.7099759466766968,\n",
       " 1.8171205928321397,\n",
       " 1.912931182772389,\n",
       " 2.0,\n",
       " 2.080083823051904,\n",
       " 2.154434690031884]"
      ]
     },
     "execution_count": 37,
     "metadata": {},
     "output_type": "execute_result"
    }
   ],
   "source": [
    "# Find the cube root of numbers from 1 to 10\n",
    "list(map( lambda x : (x)**(1/3) , range(1,11)))"
   ]
  },
  {
   "cell_type": "code",
   "execution_count": 38,
   "id": "7f869cd3-c0e7-43f1-8869-1892538da9c7",
   "metadata": {},
   "outputs": [],
   "source": [
    "# check if a number is even\n",
    "even = lambda x : True if x%2 == 0 else False"
   ]
  },
  {
   "cell_type": "code",
   "execution_count": 39,
   "id": "c8c4039c-7b42-45e4-9911-9ccb2ba99da3",
   "metadata": {},
   "outputs": [
    {
     "data": {
      "text/plain": [
       "True"
      ]
     },
     "execution_count": 39,
     "metadata": {},
     "output_type": "execute_result"
    }
   ],
   "source": [
    "even(12)"
   ]
  },
  {
   "cell_type": "code",
   "execution_count": 40,
   "id": "d7b669e7-21d3-4154-ae29-bd1d622f86bd",
   "metadata": {},
   "outputs": [
    {
     "data": {
      "text/plain": [
       "False"
      ]
     },
     "execution_count": 40,
     "metadata": {},
     "output_type": "execute_result"
    }
   ],
   "source": [
    "even(13)"
   ]
  },
  {
   "cell_type": "code",
   "execution_count": 42,
   "id": "5a26f082-7281-46c6-a279-d4a2befaf052",
   "metadata": {},
   "outputs": [
    {
     "data": {
      "text/plain": [
       "[1, 3, 5, 7, 9]"
      ]
     },
     "execution_count": 42,
     "metadata": {},
     "output_type": "execute_result"
    }
   ],
   "source": [
    "# Filter odd numbers from the given list.\n",
    "l = [1,2,3,4,5,6,7,8,9,10]\n",
    "list(filter(lambda x : x%2 !=0 , l))"
   ]
  },
  {
   "cell_type": "code",
   "execution_count": 51,
   "id": "7fa9bb7f-fb26-4c88-9937-0160883563cf",
   "metadata": {},
   "outputs": [],
   "source": [
    "# Sort a list of integers into positive and negative integers lists.\n",
    "l1 = [1,2,3,4,5,6,-1,-2,-3,-4,-5,0]\n"
   ]
  },
  {
   "cell_type": "code",
   "execution_count": 55,
   "id": "d9e205d2-bef2-44db-b78e-365bbb7b105c",
   "metadata": {},
   "outputs": [],
   "source": [
    "l2 = [i for i in l1 if i>0]"
   ]
  },
  {
   "cell_type": "code",
   "execution_count": 56,
   "id": "2d86a480-967e-4377-b1c8-f707b33dc432",
   "metadata": {},
   "outputs": [],
   "source": [
    "l3 = [i for i in l1 if i<0]"
   ]
  },
  {
   "cell_type": "code",
   "execution_count": 61,
   "id": "c86e5c6a-7589-4b0e-85c6-a66ee2f11da6",
   "metadata": {},
   "outputs": [
    {
     "data": {
      "text/plain": [
       "[1, 2, 3, 4, 5, 6]"
      ]
     },
     "execution_count": 61,
     "metadata": {},
     "output_type": "execute_result"
    }
   ],
   "source": [
    "l2 # sorted"
   ]
  },
  {
   "cell_type": "code",
   "execution_count": 62,
   "id": "3e0ac509-9aed-4b34-bc69-8d6f1f7d31f0",
   "metadata": {},
   "outputs": [
    {
     "data": {
      "text/plain": [
       "[-5, -4, -3, -2, -1]"
      ]
     },
     "execution_count": 62,
     "metadata": {},
     "output_type": "execute_result"
    }
   ],
   "source": [
    "l3"
   ]
  },
  {
   "cell_type": "code",
   "execution_count": 63,
   "id": "92b6116e-6f89-4994-910d-52d529ae0570",
   "metadata": {},
   "outputs": [],
   "source": [
    "l3.sort()"
   ]
  },
  {
   "cell_type": "code",
   "execution_count": 64,
   "id": "b8bc6c86-dc4f-4450-8d75-b92eb6213bbf",
   "metadata": {},
   "outputs": [
    {
     "data": {
      "text/plain": [
       "[-5, -4, -3, -2, -1]"
      ]
     },
     "execution_count": 64,
     "metadata": {},
     "output_type": "execute_result"
    }
   ],
   "source": [
    "l3 #sorted"
   ]
  },
  {
   "cell_type": "code",
   "execution_count": 65,
   "id": "5987b193-ff7b-4489-bb69-44680ec3ac16",
   "metadata": {},
   "outputs": [],
   "source": [
    "l4 = [0]"
   ]
  },
  {
   "cell_type": "code",
   "execution_count": 66,
   "id": "1e43161d-04c7-4fa4-abfb-757e2bd9c978",
   "metadata": {},
   "outputs": [
    {
     "data": {
      "text/plain": [
       "[0]"
      ]
     },
     "execution_count": 66,
     "metadata": {},
     "output_type": "execute_result"
    }
   ],
   "source": [
    "l4"
   ]
  },
  {
   "cell_type": "code",
   "execution_count": null,
   "id": "df62c338-ed3a-4cc5-a0cd-b8a591e5a705",
   "metadata": {},
   "outputs": [],
   "source": []
  }
 ],
 "metadata": {
  "kernelspec": {
   "display_name": "Python 3 (ipykernel)",
   "language": "python",
   "name": "python3"
  },
  "language_info": {
   "codemirror_mode": {
    "name": "ipython",
    "version": 3
   },
   "file_extension": ".py",
   "mimetype": "text/x-python",
   "name": "python",
   "nbconvert_exporter": "python",
   "pygments_lexer": "ipython3",
   "version": "3.10.8"
  }
 },
 "nbformat": 4,
 "nbformat_minor": 5
}
