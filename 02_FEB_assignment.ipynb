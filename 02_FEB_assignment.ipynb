{
 "cells": [
  {
   "cell_type": "code",
   "execution_count": 1,
   "id": "abf58650-1300-4912-8ae4-1a79d1a06207",
   "metadata": {},
   "outputs": [],
   "source": [
    "# Ans1 Use a for loop when you know the loop should execute n times. \n",
    "# Use a while loop for reading a file into a variable.\n",
    "# Use a while loop when asking for user input. Use a while loop when the increment value is nonstandard.\n"
   ]
  },
  {
   "cell_type": "code",
   "execution_count": 3,
   "id": "457306b0-bab6-4270-b202-86e744a01c1c",
   "metadata": {},
   "outputs": [
    {
     "name": "stdout",
     "output_type": "stream",
     "text": [
      "2\n",
      "3\n",
      "4\n",
      "5\n",
      "6\n",
      "7\n",
      "8\n",
      "9\n",
      "10\n",
      "11\n"
     ]
    }
   ],
   "source": [
    "# e.g for loop\n",
    "l= range(10)\n",
    "for i in l:\n",
    "    print(i+2)"
   ]
  },
  {
   "cell_type": "code",
   "execution_count": 5,
   "id": "7b008768-a5c6-4c4f-9194-007fcb7bdc83",
   "metadata": {},
   "outputs": [
    {
     "name": "stdout",
     "output_type": "stream",
     "text": [
      "3\n",
      "4\n",
      "5\n",
      "6\n",
      "7\n",
      "8\n",
      "9\n",
      "10\n",
      "11\n"
     ]
    }
   ],
   "source": [
    "# e.g while loop\n",
    "n=10\n",
    "i=1\n",
    "while i <10:\n",
    "    print(i+2)\n",
    "    i=i+1"
   ]
  },
  {
   "cell_type": "code",
   "execution_count": 6,
   "id": "32ff9e6a-64a8-4b0e-b8a6-b52b0962b0e0",
   "metadata": {},
   "outputs": [
    {
     "name": "stdout",
     "output_type": "stream",
     "text": [
      "Using For Loop\n",
      "Sum of first 10 natural numbers is 55\n",
      "Product of first 10 natural numbers is 3628800\n"
     ]
    }
   ],
   "source": [
    "# Ans 2\n",
    "## For Loop\n",
    "\n",
    "sum = 0\n",
    "product = 1\n",
    "for i in list(range(1,11)):\n",
    "    sum = sum + i\n",
    "    product = product * i\n",
    "print(\"Using For Loop\")\n",
    "print(\"Sum of first 10 natural numbers is\",sum)\n",
    "print(\"Product of first 10 natural numbers is\",product)"
   ]
  },
  {
   "cell_type": "code",
   "execution_count": 7,
   "id": "aa87cbaa-d35c-439b-8655-eacd74c71f6d",
   "metadata": {},
   "outputs": [
    {
     "name": "stdout",
     "output_type": "stream",
     "text": [
      "Using While Loop\n",
      "Sum of first 10 natural numbers is 55\n",
      "Product of first 10 natural numbers is 3628800\n"
     ]
    }
   ],
   "source": [
    "## While Loop\n",
    "\n",
    "count = 1\n",
    "sum = 0\n",
    "product = 1\n",
    "while(count<11):\n",
    "    sum = sum + count\n",
    "    product = product * count\n",
    "    count += 1\n",
    "print(\"Using While Loop\")\n",
    "print(\"Sum of first 10 natural numbers is\",sum)\n",
    "print(\"Product of first 10 natural numbers is\",product)"
   ]
  },
  {
   "cell_type": "code",
   "execution_count": 8,
   "id": "ab3816d0-b809-4732-aced-fa9bd8e7ba57",
   "metadata": {},
   "outputs": [
    {
     "name": "stdin",
     "output_type": "stream",
     "text": [
      "Enter the total units consumed:  310\n"
     ]
    },
    {
     "name": "stdout",
     "output_type": "stream",
     "text": [
      "The total bill amount is: Rs. 2250.00\n"
     ]
    }
   ],
   "source": [
    "#Ans 3\n",
    "total_units = int(input(\"Enter the total units consumed: \"))\n",
    "if total_units >0 and total_units <=100:\n",
    "    bill = total_units*4.5\n",
    "elif total_units >100 and total_units <=200:\n",
    "    bill = (total_units-100)*6 + (100)*4.5 \n",
    "elif total_units >200 and total_units <=300:\n",
    "    bill = (total_units-200)*10 + (100*6) + (100*4.5)\n",
    "elif total_units >300:\n",
    "    bill = (total_units-300)*20 + (100*10) + (100*6) + (100*4.5)\n",
    "else:\n",
    "    print(\"Invalid Input\")\n",
    "print(\"The total bill amount is: Rs. %.2f\" % bill)"
   ]
  },
  {
   "cell_type": "code",
   "execution_count": 9,
   "id": "345af412-b72c-4d70-9587-d2a74294877b",
   "metadata": {},
   "outputs": [
    {
     "name": "stdout",
     "output_type": "stream",
     "text": [
      "List of numbers those cubes are divisible by either 4 or 5 are [2, 4, 5, 6, 8, 10, 12, 14, 15, 16, 18, 20, 22, 24, 25, 26, 28, 30, 32, 34, 35, 36, 38, 40, 42, 44, 45, 46, 48, 50, 52, 54, 55, 56, 58, 60, 62, 64, 65, 66, 68, 70, 72, 74, 75, 76, 78, 80, 82, 84, 85, 86, 88, 90, 92, 94, 95, 96, 98, 100]\n"
     ]
    }
   ],
   "source": [
    "#Ans 4\n",
    "# using For Loop\n",
    "\n",
    "l  = list(range(1,101))\n",
    "l2 = []\n",
    "for i in l:\n",
    "    cube = i**3\n",
    "    if cube%4 == 0 or cube%5 == 0:\n",
    "       l2.append(i)\n",
    "print(\"List of numbers those cubes are divisible by either 4 or 5 are\",l2)"
   ]
  },
  {
   "cell_type": "code",
   "execution_count": 10,
   "id": "61fab3a1-7464-4023-a5c6-9d2c9dfb0907",
   "metadata": {},
   "outputs": [
    {
     "name": "stdout",
     "output_type": "stream",
     "text": [
      "List of numbers those cubes are divisible by either 4 or 5 are [2, 4, 5, 6, 8, 10, 12, 14, 15, 16, 18, 20, 22, 24, 25, 26, 28, 30, 32, 34, 35, 36, 38, 40, 42, 44, 45, 46, 48, 50, 52, 54, 55, 56, 58, 60, 62, 64, 65, 66, 68, 70, 72, 74, 75, 76, 78, 80, 82, 84, 85, 86, 88, 90, 92, 94, 95, 96, 98, 100]\n"
     ]
    }
   ],
   "source": [
    "#using while loop\n",
    "count = 1\n",
    "l = []\n",
    "while(count <=100):\n",
    "    cube = count**3\n",
    "    if cube%4 == 0 or cube%5 == 0:\n",
    "        l.append(count)\n",
    "    count +=1\n",
    "print(\"List of numbers those cubes are divisible by either 4 or 5 are\",l)"
   ]
  },
  {
   "cell_type": "code",
   "execution_count": 11,
   "id": "e7faa27f-43b6-4617-945a-744db58c4a89",
   "metadata": {},
   "outputs": [],
   "source": [
    "# ANS 5\n",
    "string = \"I want to become a data scientist\""
   ]
  },
  {
   "cell_type": "code",
   "execution_count": 20,
   "id": "bcb6b83b-3b12-4022-acd6-7016728c83d0",
   "metadata": {},
   "outputs": [],
   "source": [
    "count = list(filter(lambda x : x.lower()=='a' or x.lower()=='e' or x.lower()=='i' or x.lower()=='o' or x.lower()=='u' , string))"
   ]
  },
  {
   "cell_type": "code",
   "execution_count": 21,
   "id": "fe26d592-3266-4fc1-9e69-582c57947ffd",
   "metadata": {},
   "outputs": [],
   "source": [
    "num=0\n",
    "for i in count:\n",
    "    num= num+1"
   ]
  },
  {
   "cell_type": "code",
   "execution_count": 22,
   "id": "72682193-6e23-4a73-b639-5f94b7de676c",
   "metadata": {},
   "outputs": [
    {
     "name": "stdout",
     "output_type": "stream",
     "text": [
      "12  vowels are present in given string\n"
     ]
    }
   ],
   "source": [
    "print(num , \" vowels are present in given string\")"
   ]
  },
  {
   "cell_type": "code",
   "execution_count": 23,
   "id": "4f346f7b-8f02-4650-8313-3118bb7173b3",
   "metadata": {},
   "outputs": [],
   "source": [
    "# OR"
   ]
  },
  {
   "cell_type": "code",
   "execution_count": 24,
   "id": "a8d995c1-4794-45e1-9dc3-688286532bc4",
   "metadata": {},
   "outputs": [
    {
     "name": "stdout",
     "output_type": "stream",
     "text": [
      "Number of Vowels in Given String is : 12\n"
     ]
    }
   ],
   "source": [
    "string = \"I want to become a data scientist\"\n",
    "vowels = ('aeiou')\n",
    "count = 0\n",
    "for i in string.lower():\n",
    "    if i in vowels:\n",
    "        count += 1\n",
    "print(\"Number of Vowels in Given String is :\",count)"
   ]
  },
  {
   "cell_type": "code",
   "execution_count": null,
   "id": "1e96d3f2-15dc-439c-b0c7-731bd5d5db1a",
   "metadata": {},
   "outputs": [],
   "source": []
  }
 ],
 "metadata": {
  "kernelspec": {
   "display_name": "Python 3 (ipykernel)",
   "language": "python",
   "name": "python3"
  },
  "language_info": {
   "codemirror_mode": {
    "name": "ipython",
    "version": 3
   },
   "file_extension": ".py",
   "mimetype": "text/x-python",
   "name": "python",
   "nbconvert_exporter": "python",
   "pygments_lexer": "ipython3",
   "version": "3.10.8"
  }
 },
 "nbformat": 4,
 "nbformat_minor": 5
}
